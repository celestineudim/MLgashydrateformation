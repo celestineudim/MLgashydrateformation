{
 "cells": [
  {
   "cell_type": "code",
   "execution_count": 1,
   "metadata": {},
   "outputs": [],
   "source": [
    "#importing relevant libraries \n",
    "\n",
    "import pandas as pd \n",
    "import numpy as np \n",
    "import pandas_profiling as pp\n",
    "import seaborn as sns\n",
    "import matplotlib.pyplot as plt "
   ]
  },
  {
   "cell_type": "code",
   "execution_count": 2,
   "metadata": {},
   "outputs": [
    {
     "data": {
      "text/html": [
       "<div>\n",
       "<style scoped>\n",
       "    .dataframe tbody tr th:only-of-type {\n",
       "        vertical-align: middle;\n",
       "    }\n",
       "\n",
       "    .dataframe tbody tr th {\n",
       "        vertical-align: top;\n",
       "    }\n",
       "\n",
       "    .dataframe thead th {\n",
       "        text-align: right;\n",
       "    }\n",
       "</style>\n",
       "<table border=\"1\" class=\"dataframe\">\n",
       "  <thead>\n",
       "    <tr style=\"text-align: right;\">\n",
       "      <th></th>\n",
       "      <th>Time</th>\n",
       "      <th>T1 (°C)</th>\n",
       "      <th>T2 (°C)</th>\n",
       "      <th>T3 (°C)</th>\n",
       "      <th>P1 (Psi)</th>\n",
       "      <th>P2 (Psi)</th>\n",
       "      <th>P3 (Psi)</th>\n",
       "      <th>P4 (Bar)</th>\n",
       "      <th>P5 (Psi)</th>\n",
       "      <th>P6 (Psi)</th>\n",
       "      <th>Hydrate</th>\n",
       "    </tr>\n",
       "  </thead>\n",
       "  <tbody>\n",
       "    <tr>\n",
       "      <td>0</td>\n",
       "      <td>0</td>\n",
       "      <td>27.0</td>\n",
       "      <td>29.0</td>\n",
       "      <td>33</td>\n",
       "      <td>150</td>\n",
       "      <td>170</td>\n",
       "      <td>150</td>\n",
       "      <td>0.4875</td>\n",
       "      <td>150</td>\n",
       "      <td>150</td>\n",
       "      <td>0</td>\n",
       "    </tr>\n",
       "    <tr>\n",
       "      <td>1</td>\n",
       "      <td>2</td>\n",
       "      <td>26.0</td>\n",
       "      <td>27.0</td>\n",
       "      <td>32</td>\n",
       "      <td>130</td>\n",
       "      <td>140</td>\n",
       "      <td>130</td>\n",
       "      <td>0.4857</td>\n",
       "      <td>126</td>\n",
       "      <td>135</td>\n",
       "      <td>0</td>\n",
       "    </tr>\n",
       "    <tr>\n",
       "      <td>2</td>\n",
       "      <td>4</td>\n",
       "      <td>25.0</td>\n",
       "      <td>25.0</td>\n",
       "      <td>32</td>\n",
       "      <td>120</td>\n",
       "      <td>140</td>\n",
       "      <td>120</td>\n",
       "      <td>0.4464</td>\n",
       "      <td>125</td>\n",
       "      <td>130</td>\n",
       "      <td>0</td>\n",
       "    </tr>\n",
       "    <tr>\n",
       "      <td>3</td>\n",
       "      <td>6</td>\n",
       "      <td>23.0</td>\n",
       "      <td>21.0</td>\n",
       "      <td>31</td>\n",
       "      <td>120</td>\n",
       "      <td>139</td>\n",
       "      <td>120</td>\n",
       "      <td>0.4414</td>\n",
       "      <td>125</td>\n",
       "      <td>130</td>\n",
       "      <td>0</td>\n",
       "    </tr>\n",
       "    <tr>\n",
       "      <td>4</td>\n",
       "      <td>8</td>\n",
       "      <td>22.0</td>\n",
       "      <td>21.0</td>\n",
       "      <td>31</td>\n",
       "      <td>119</td>\n",
       "      <td>138</td>\n",
       "      <td>119</td>\n",
       "      <td>0.4268</td>\n",
       "      <td>124</td>\n",
       "      <td>130</td>\n",
       "      <td>0</td>\n",
       "    </tr>\n",
       "    <tr>\n",
       "      <td>...</td>\n",
       "      <td>...</td>\n",
       "      <td>...</td>\n",
       "      <td>...</td>\n",
       "      <td>...</td>\n",
       "      <td>...</td>\n",
       "      <td>...</td>\n",
       "      <td>...</td>\n",
       "      <td>...</td>\n",
       "      <td>...</td>\n",
       "      <td>...</td>\n",
       "      <td>...</td>\n",
       "    </tr>\n",
       "    <tr>\n",
       "      <td>56</td>\n",
       "      <td>112</td>\n",
       "      <td>3.5</td>\n",
       "      <td>11.0</td>\n",
       "      <td>23</td>\n",
       "      <td>25</td>\n",
       "      <td>42</td>\n",
       "      <td>25</td>\n",
       "      <td>0.1797</td>\n",
       "      <td>32</td>\n",
       "      <td>35</td>\n",
       "      <td>1</td>\n",
       "    </tr>\n",
       "    <tr>\n",
       "      <td>57</td>\n",
       "      <td>114</td>\n",
       "      <td>3.5</td>\n",
       "      <td>11.0</td>\n",
       "      <td>23</td>\n",
       "      <td>25</td>\n",
       "      <td>42</td>\n",
       "      <td>25</td>\n",
       "      <td>0.1825</td>\n",
       "      <td>32</td>\n",
       "      <td>35</td>\n",
       "      <td>1</td>\n",
       "    </tr>\n",
       "    <tr>\n",
       "      <td>58</td>\n",
       "      <td>116</td>\n",
       "      <td>3.5</td>\n",
       "      <td>11.0</td>\n",
       "      <td>23</td>\n",
       "      <td>25</td>\n",
       "      <td>42</td>\n",
       "      <td>25</td>\n",
       "      <td>0.2302</td>\n",
       "      <td>32</td>\n",
       "      <td>35</td>\n",
       "      <td>1</td>\n",
       "    </tr>\n",
       "    <tr>\n",
       "      <td>59</td>\n",
       "      <td>118</td>\n",
       "      <td>3.5</td>\n",
       "      <td>11.0</td>\n",
       "      <td>23</td>\n",
       "      <td>25</td>\n",
       "      <td>42</td>\n",
       "      <td>25</td>\n",
       "      <td>0.1925</td>\n",
       "      <td>32</td>\n",
       "      <td>35</td>\n",
       "      <td>1</td>\n",
       "    </tr>\n",
       "    <tr>\n",
       "      <td>60</td>\n",
       "      <td>120</td>\n",
       "      <td>3.5</td>\n",
       "      <td>11.0</td>\n",
       "      <td>23</td>\n",
       "      <td>25</td>\n",
       "      <td>42</td>\n",
       "      <td>25</td>\n",
       "      <td>0.1811</td>\n",
       "      <td>32</td>\n",
       "      <td>35</td>\n",
       "      <td>1</td>\n",
       "    </tr>\n",
       "  </tbody>\n",
       "</table>\n",
       "<p>61 rows × 11 columns</p>\n",
       "</div>"
      ],
      "text/plain": [
       "    Time  T1 (°C)  T2 (°C)  T3 (°C)  P1 (Psi)  P2 (Psi)   P3 (Psi)  P4 (Bar)  \\\n",
       "0      0     27.0     29.0       33       150        170       150    0.4875   \n",
       "1      2     26.0     27.0       32       130        140       130    0.4857   \n",
       "2      4     25.0     25.0       32       120        140       120    0.4464   \n",
       "3      6     23.0     21.0       31       120        139       120    0.4414   \n",
       "4      8     22.0     21.0       31       119        138       119    0.4268   \n",
       "..   ...      ...      ...      ...       ...        ...       ...       ...   \n",
       "56   112      3.5     11.0       23        25         42        25    0.1797   \n",
       "57   114      3.5     11.0       23        25         42        25    0.1825   \n",
       "58   116      3.5     11.0       23        25         42        25    0.2302   \n",
       "59   118      3.5     11.0       23        25         42        25    0.1925   \n",
       "60   120      3.5     11.0       23        25         42        25    0.1811   \n",
       "\n",
       "    P5 (Psi)  P6 (Psi)  Hydrate  \n",
       "0        150       150        0  \n",
       "1        126       135        0  \n",
       "2        125       130        0  \n",
       "3        125       130        0  \n",
       "4        124       130        0  \n",
       "..       ...       ...      ...  \n",
       "56        32        35        1  \n",
       "57        32        35        1  \n",
       "58        32        35        1  \n",
       "59        32        35        1  \n",
       "60        32        35        1  \n",
       "\n",
       "[61 rows x 11 columns]"
      ]
     },
     "execution_count": 2,
     "metadata": {},
     "output_type": "execute_result"
    }
   ],
   "source": [
    "#Obtaining data from .excel\n",
    "df_a=pd.read_excel(\"/Users/celestineudim/PYTHON ANACONDA/MLgashydrateformation/DATA SET/A 0.02.xlsx\", \n",
    "                   sheet_name='A0.02')\n",
    "df_a"
   ]
  },
  {
   "cell_type": "markdown",
   "metadata": {},
   "source": [
    "Experimental Data are often structured with little or no cleaning / wrangling to be done"
   ]
  },
  {
   "cell_type": "code",
   "execution_count": 3,
   "metadata": {},
   "outputs": [],
   "source": [
    "column = ['Time', 'T1 (°C)', 'T2 (°C)', 'T3 (°C)', 'P1 (Psi)', 'P2 (Psi) ',\n",
    "       'P3 (Psi)', 'P4 (Bar)', 'P5 (Psi)', 'P6 (Psi)', 'Hydrate']"
   ]
  },
  {
   "cell_type": "code",
   "execution_count": 4,
   "metadata": {
    "scrolled": true
   },
   "outputs": [
    {
     "data": {
      "text/plain": [
       "<matplotlib.axes._subplots.AxesSubplot at 0x127f64150>"
      ]
     },
     "execution_count": 4,
     "metadata": {},
     "output_type": "execute_result"
    },
    {
     "data": {
      "image/png": "[encoded data removed]",
      "text/plain": [
       "<Figure size 720x504 with 2 Axes>"
      ]
     },
     "metadata": {
      "needs_background": "light"
     },
     "output_type": "display_data"
    }
   ],
   "source": [
    "#Exploring / Visualizing data\n",
    "#.corr() is used to find the pairwise correlation\n",
    "\n",
    "co = df_a.corr()\n",
    "plt.subplots(figsize=(10,7))\n",
    "sns.heatmap(co, annot=True)"
   ]
  },
  {
   "cell_type": "markdown",
   "metadata": {},
   "source": [
    "The data exhibits a form of multicollinearity called \"Data multicollinearity\".\n",
    "This type of multicollinearity is present in the data itself rather than being an artifact of our model. Observational experiments are more likely to exhibit this kind of multicollinearity."
   ]
  },
  {
   "cell_type": "code",
   "execution_count": 5,
   "metadata": {},
   "outputs": [],
   "source": [
    "#Reducing Collinearity withing the data\n",
    "#Note: This Step was lattter ignored because:"
   ]
  },
  {
   "cell_type": "markdown",
   "metadata": {},
   "source": [
    "The fact that some or all predictor variables are correlated among themselves does not, in general, inhibit our ability to obtain a good fit nor does it tend to affect inferences about mean responses or predictions of new observations.  —Applied Linear Statistical Models, p289, 4th Edition."
   ]
  },
  {
   "cell_type": "code",
   "execution_count": 6,
   "metadata": {
    "scrolled": true
   },
   "outputs": [
    {
     "data": {
      "text/html": [
       "<div>\n",
       "<style scoped>\n",
       "    .dataframe tbody tr th:only-of-type {\n",
       "        vertical-align: middle;\n",
       "    }\n",
       "\n",
       "    .dataframe tbody tr th {\n",
       "        vertical-align: top;\n",
       "    }\n",
       "\n",
       "    .dataframe thead th {\n",
       "        text-align: right;\n",
       "    }\n",
       "</style>\n",
       "<table border=\"1\" class=\"dataframe\">\n",
       "  <thead>\n",
       "    <tr style=\"text-align: right;\">\n",
       "      <th></th>\n",
       "      <th>Time</th>\n",
       "      <th>T1 (°C)</th>\n",
       "      <th>T2 (°C)</th>\n",
       "      <th>T3 (°C)</th>\n",
       "      <th>P1 (Psi)</th>\n",
       "      <th>P2 (Psi)</th>\n",
       "      <th>P3 (Psi)</th>\n",
       "      <th>P4 (Bar)</th>\n",
       "      <th>P5 (Psi)</th>\n",
       "      <th>P6 (Psi)</th>\n",
       "      <th>Hydrate</th>\n",
       "    </tr>\n",
       "  </thead>\n",
       "  <tbody>\n",
       "    <tr>\n",
       "      <td>0</td>\n",
       "      <td>0.000000</td>\n",
       "      <td>0.077441</td>\n",
       "      <td>0.083177</td>\n",
       "      <td>0.094650</td>\n",
       "      <td>0.430227</td>\n",
       "      <td>0.487590</td>\n",
       "      <td>0.430227</td>\n",
       "      <td>0.001398</td>\n",
       "      <td>0.430227</td>\n",
       "      <td>0.430227</td>\n",
       "      <td>0.000000</td>\n",
       "    </tr>\n",
       "    <tr>\n",
       "      <td>1</td>\n",
       "      <td>0.006669</td>\n",
       "      <td>0.086698</td>\n",
       "      <td>0.090033</td>\n",
       "      <td>0.106706</td>\n",
       "      <td>0.433492</td>\n",
       "      <td>0.466837</td>\n",
       "      <td>0.433492</td>\n",
       "      <td>0.001620</td>\n",
       "      <td>0.420154</td>\n",
       "      <td>0.450165</td>\n",
       "      <td>0.000000</td>\n",
       "    </tr>\n",
       "    <tr>\n",
       "      <td>2</td>\n",
       "      <td>0.013866</td>\n",
       "      <td>0.086664</td>\n",
       "      <td>0.086664</td>\n",
       "      <td>0.110930</td>\n",
       "      <td>0.415987</td>\n",
       "      <td>0.485318</td>\n",
       "      <td>0.415987</td>\n",
       "      <td>0.001547</td>\n",
       "      <td>0.433320</td>\n",
       "      <td>0.450653</td>\n",
       "      <td>0.000000</td>\n",
       "    </tr>\n",
       "    <tr>\n",
       "      <td>3</td>\n",
       "      <td>0.020875</td>\n",
       "      <td>0.080021</td>\n",
       "      <td>0.073063</td>\n",
       "      <td>0.107854</td>\n",
       "      <td>0.417500</td>\n",
       "      <td>0.483604</td>\n",
       "      <td>0.417500</td>\n",
       "      <td>0.001536</td>\n",
       "      <td>0.434896</td>\n",
       "      <td>0.452292</td>\n",
       "      <td>0.000000</td>\n",
       "    </tr>\n",
       "    <tr>\n",
       "      <td>4</td>\n",
       "      <td>0.028007</td>\n",
       "      <td>0.077019</td>\n",
       "      <td>0.073518</td>\n",
       "      <td>0.108527</td>\n",
       "      <td>0.416603</td>\n",
       "      <td>0.483120</td>\n",
       "      <td>0.416603</td>\n",
       "      <td>0.001494</td>\n",
       "      <td>0.434108</td>\n",
       "      <td>0.455113</td>\n",
       "      <td>0.000000</td>\n",
       "    </tr>\n",
       "    <tr>\n",
       "      <td>...</td>\n",
       "      <td>...</td>\n",
       "      <td>...</td>\n",
       "      <td>...</td>\n",
       "      <td>...</td>\n",
       "      <td>...</td>\n",
       "      <td>...</td>\n",
       "      <td>...</td>\n",
       "      <td>...</td>\n",
       "      <td>...</td>\n",
       "      <td>...</td>\n",
       "      <td>...</td>\n",
       "    </tr>\n",
       "    <tr>\n",
       "      <td>56</td>\n",
       "      <td>0.824103</td>\n",
       "      <td>0.025753</td>\n",
       "      <td>0.080939</td>\n",
       "      <td>0.169235</td>\n",
       "      <td>0.183951</td>\n",
       "      <td>0.309038</td>\n",
       "      <td>0.183951</td>\n",
       "      <td>0.001322</td>\n",
       "      <td>0.235458</td>\n",
       "      <td>0.257532</td>\n",
       "      <td>0.007358</td>\n",
       "    </tr>\n",
       "    <tr>\n",
       "      <td>57</td>\n",
       "      <td>0.828740</td>\n",
       "      <td>0.025444</td>\n",
       "      <td>0.079966</td>\n",
       "      <td>0.167202</td>\n",
       "      <td>0.181741</td>\n",
       "      <td>0.305325</td>\n",
       "      <td>0.181741</td>\n",
       "      <td>0.001327</td>\n",
       "      <td>0.232629</td>\n",
       "      <td>0.254438</td>\n",
       "      <td>0.007270</td>\n",
       "    </tr>\n",
       "    <tr>\n",
       "      <td>58</td>\n",
       "      <td>0.833212</td>\n",
       "      <td>0.025140</td>\n",
       "      <td>0.079011</td>\n",
       "      <td>0.165206</td>\n",
       "      <td>0.179571</td>\n",
       "      <td>0.301680</td>\n",
       "      <td>0.179571</td>\n",
       "      <td>0.001653</td>\n",
       "      <td>0.229851</td>\n",
       "      <td>0.251400</td>\n",
       "      <td>0.007183</td>\n",
       "    </tr>\n",
       "    <tr>\n",
       "      <td>59</td>\n",
       "      <td>0.837527</td>\n",
       "      <td>0.024842</td>\n",
       "      <td>0.078075</td>\n",
       "      <td>0.163247</td>\n",
       "      <td>0.177442</td>\n",
       "      <td>0.298103</td>\n",
       "      <td>0.177442</td>\n",
       "      <td>0.001366</td>\n",
       "      <td>0.227126</td>\n",
       "      <td>0.248419</td>\n",
       "      <td>0.007098</td>\n",
       "    </tr>\n",
       "    <tr>\n",
       "      <td>60</td>\n",
       "      <td>0.841690</td>\n",
       "      <td>0.024549</td>\n",
       "      <td>0.077155</td>\n",
       "      <td>0.161324</td>\n",
       "      <td>0.175352</td>\n",
       "      <td>0.294592</td>\n",
       "      <td>0.175352</td>\n",
       "      <td>0.001270</td>\n",
       "      <td>0.224451</td>\n",
       "      <td>0.245493</td>\n",
       "      <td>0.007014</td>\n",
       "    </tr>\n",
       "  </tbody>\n",
       "</table>\n",
       "<p>61 rows × 11 columns</p>\n",
       "</div>"
      ],
      "text/plain": [
       "        Time   T1 (°C)   T2 (°C)   T3 (°C)  P1 (Psi)  P2 (Psi)   P3 (Psi)  \\\n",
       "0   0.000000  0.077441  0.083177  0.094650  0.430227   0.487590  0.430227   \n",
       "1   0.006669  0.086698  0.090033  0.106706  0.433492   0.466837  0.433492   \n",
       "2   0.013866  0.086664  0.086664  0.110930  0.415987   0.485318  0.415987   \n",
       "3   0.020875  0.080021  0.073063  0.107854  0.417500   0.483604  0.417500   \n",
       "4   0.028007  0.077019  0.073518  0.108527  0.416603   0.483120  0.416603   \n",
       "..       ...       ...       ...       ...       ...        ...       ...   \n",
       "56  0.824103  0.025753  0.080939  0.169235  0.183951   0.309038  0.183951   \n",
       "57  0.828740  0.025444  0.079966  0.167202  0.181741   0.305325  0.181741   \n",
       "58  0.833212  0.025140  0.079011  0.165206  0.179571   0.301680  0.179571   \n",
       "59  0.837527  0.024842  0.078075  0.163247  0.177442   0.298103  0.177442   \n",
       "60  0.841690  0.024549  0.077155  0.161324  0.175352   0.294592  0.175352   \n",
       "\n",
       "    P4 (Bar)  P5 (Psi)  P6 (Psi)   Hydrate  \n",
       "0   0.001398  0.430227  0.430227  0.000000  \n",
       "1   0.001620  0.420154  0.450165  0.000000  \n",
       "2   0.001547  0.433320  0.450653  0.000000  \n",
       "3   0.001536  0.434896  0.452292  0.000000  \n",
       "4   0.001494  0.434108  0.455113  0.000000  \n",
       "..       ...       ...       ...       ...  \n",
       "56  0.001322  0.235458  0.257532  0.007358  \n",
       "57  0.001327  0.232629  0.254438  0.007270  \n",
       "58  0.001653  0.229851  0.251400  0.007183  \n",
       "59  0.001366  0.227126  0.248419  0.007098  \n",
       "60  0.001270  0.224451  0.245493  0.007014  \n",
       "\n",
       "[61 rows x 11 columns]"
      ]
     },
     "execution_count": 6,
     "metadata": {},
     "output_type": "execute_result"
    }
   ],
   "source": [
    "#Reducing Collinearity withing the data by normalising it\n",
    "#This Step was lattter ignored for reasons earlier mentioned\n",
    "\n",
    "from sklearn import preprocessing\n",
    "\n",
    "pp_data = preprocessing.normalize(df_a)\n",
    "pp_df_a = pd.DataFrame(pp_data, columns = column)\n",
    "pp_df_a"
   ]
  },
  {
   "cell_type": "markdown",
   "metadata": {},
   "source": [
    "The normalised data frame has a range within 1 and 0"
   ]
  },
  {
   "cell_type": "code",
   "execution_count": 7,
   "metadata": {},
   "outputs": [
    {
     "data": {
      "text/plain": [
       "<matplotlib.axes._subplots.AxesSubplot at 0x131cc3c10>"
      ]
     },
     "execution_count": 7,
     "metadata": {},
     "output_type": "execute_result"
    },
    {
     "data": {
      "image/png": "[encoded data removed]",
      "text/plain": [
       "<Figure size 720x504 with 2 Axes>"
      ]
     },
     "metadata": {
      "needs_background": "light"
     },
     "output_type": "display_data"
    }
   ],
   "source": [
    "coo = pp_df_a.corr()\n",
    "plt.subplots(figsize =(10,7))\n",
    "sns.heatmap(coo, annot=True)"
   ]
  },
  {
   "cell_type": "markdown",
   "metadata": {},
   "source": [
    "In comparison to the previous Heatmap multicollinearity has been appreciably reduced."
   ]
  },
  {
   "cell_type": "markdown",
   "metadata": {},
   "source": [
    "We will now revert back to using our original data with Multicollinrearity "
   ]
  },
  {
   "cell_type": "markdown",
   "metadata": {},
   "source": [
    "# ANALYSIS FOR DATA  A (0.02wt% of Plant Extract A)"
   ]
  },
  {
   "cell_type": "markdown",
   "metadata": {},
   "source": [
    "Predicting Hydrate formation using an Artificial Neural Network (ANN) with Time, Temperature and Pressure as input variables"
   ]
  },
  {
   "cell_type": "code",
   "execution_count": 8,
   "metadata": {},
   "outputs": [],
   "source": [
    "x_a = df_a[['Time', 'T1 (°C)','P1 (Psi)']]\n",
    "y_a = df_a['Hydrate']"
   ]
  },
  {
   "cell_type": "code",
   "execution_count": 9,
   "metadata": {},
   "outputs": [],
   "source": [
    "#splitting testing and training data\n",
    "\n",
    "from sklearn.model_selection import train_test_split as tts\n",
    "x_a_train, x_a_test , y_a_train , y_a_test  = tts(x_a,y_a, test_size=0.4, random_state=405)"
   ]
  },
  {
   "cell_type": "code",
   "execution_count": 10,
   "metadata": {
    "scrolled": true
   },
   "outputs": [
    {
     "name": "stdout",
     "output_type": "stream",
     "text": [
      "Epoch 1/150\n",
      "1/1 [==============================] - 0s 306ms/step - loss: 1.1139 - accuracy: 0.2800 - val_loss: 0.9248 - val_accuracy: 0.3636\n",
      "Epoch 2/150\n",
      "1/1 [==============================] - 0s 38ms/step - loss: 1.0349 - accuracy: 0.2800 - val_loss: 0.8587 - val_accuracy: 0.3636\n",
      "Epoch 3/150\n",
      "1/1 [==============================] - 0s 39ms/step - loss: 0.9633 - accuracy: 0.2800 - val_loss: 0.7988 - val_accuracy: 0.3636\n",
      "Epoch 4/150\n",
      "1/1 [==============================] - 0s 40ms/step - loss: 0.8992 - accuracy: 0.2800 - val_loss: 0.7464 - val_accuracy: 0.3636\n",
      "Epoch 5/150\n",
      "1/1 [==============================] - 0s 36ms/step - loss: 0.8424 - accuracy: 0.2800 - val_loss: 0.7004 - val_accuracy: 0.3636\n",
      "Epoch 6/150\n",
      "1/1 [==============================] - 0s 35ms/step - loss: 0.7928 - accuracy: 0.2800 - val_loss: 0.6603 - val_accuracy: 0.2727\n",
      "Epoch 7/150\n",
      "1/1 [==============================] - 0s 36ms/step - loss: 0.7497 - accuracy: 0.2000 - val_loss: 0.6259 - val_accuracy: 0.6364\n",
      "Epoch 8/150\n",
      "1/1 [==============================] - 0s 38ms/step - loss: 0.7128 - accuracy: 0.5600 - val_loss: 0.5982 - val_accuracy: 0.6364\n",
      "Epoch 9/150\n",
      "1/1 [==============================] - 0s 49ms/step - loss: 0.6818 - accuracy: 0.5600 - val_loss: 0.5757 - val_accuracy: 0.6364\n",
      "Epoch 10/150\n",
      "1/1 [==============================] - 0s 59ms/step - loss: 0.6566 - accuracy: 0.5600 - val_loss: 0.5591 - val_accuracy: 0.6364\n",
      "Epoch 11/150\n",
      "1/1 [==============================] - 0s 40ms/step - loss: 0.6351 - accuracy: 0.5600 - val_loss: 0.5457 - val_accuracy: 0.6364\n",
      "Epoch 12/150\n",
      "1/1 [==============================] - 0s 34ms/step - loss: 0.6174 - accuracy: 0.5600 - val_loss: 0.5346 - val_accuracy: 0.6364\n",
      "Epoch 13/150\n",
      "1/1 [==============================] - 0s 34ms/step - loss: 0.6019 - accuracy: 0.5600 - val_loss: 0.5240 - val_accuracy: 0.6364\n",
      "Epoch 14/150\n",
      "1/1 [==============================] - 0s 43ms/step - loss: 0.5877 - accuracy: 0.5600 - val_loss: 0.5135 - val_accuracy: 0.6364\n",
      "Epoch 15/150\n",
      "1/1 [==============================] - 0s 34ms/step - loss: 0.5743 - accuracy: 0.6000 - val_loss: 0.5030 - val_accuracy: 0.6364\n",
      "Epoch 16/150\n",
      "1/1 [==============================] - 0s 36ms/step - loss: 0.5610 - accuracy: 0.6000 - val_loss: 0.4920 - val_accuracy: 0.6364\n",
      "Epoch 17/150\n",
      "1/1 [==============================] - 0s 37ms/step - loss: 0.5478 - accuracy: 0.6000 - val_loss: 0.4805 - val_accuracy: 0.6364\n",
      "Epoch 18/150\n",
      "1/1 [==============================] - 0s 40ms/step - loss: 0.5347 - accuracy: 0.6400 - val_loss: 0.4688 - val_accuracy: 0.6364\n",
      "Epoch 19/150\n",
      "1/1 [==============================] - 0s 37ms/step - loss: 0.5226 - accuracy: 0.6400 - val_loss: 0.4571 - val_accuracy: 0.6364\n",
      "Epoch 20/150\n",
      "1/1 [==============================] - 0s 36ms/step - loss: 0.5108 - accuracy: 0.6400 - val_loss: 0.4455 - val_accuracy: 0.6364\n",
      "Epoch 21/150\n",
      "1/1 [==============================] - 0s 35ms/step - loss: 0.5002 - accuracy: 0.6400 - val_loss: 0.4342 - val_accuracy: 0.6364\n",
      "Epoch 22/150\n",
      "1/1 [==============================] - 0s 34ms/step - loss: 0.4899 - accuracy: 0.6800 - val_loss: 0.4235 - val_accuracy: 0.7273\n",
      "Epoch 23/150\n",
      "1/1 [==============================] - 0s 36ms/step - loss: 0.4793 - accuracy: 0.6800 - val_loss: 0.4122 - val_accuracy: 0.8182\n",
      "Epoch 24/150\n",
      "1/1 [==============================] - 0s 67ms/step - loss: 0.4681 - accuracy: 0.7200 - val_loss: 0.4027 - val_accuracy: 0.8182\n",
      "Epoch 25/150\n",
      "1/1 [==============================] - 0s 40ms/step - loss: 0.4585 - accuracy: 0.8000 - val_loss: 0.3959 - val_accuracy: 0.8182\n",
      "Epoch 26/150\n",
      "1/1 [==============================] - 0s 38ms/step - loss: 0.4511 - accuracy: 0.8400 - val_loss: 0.3899 - val_accuracy: 0.9091\n",
      "Epoch 27/150\n",
      "1/1 [==============================] - 0s 38ms/step - loss: 0.4441 - accuracy: 0.8400 - val_loss: 0.3844 - val_accuracy: 0.9091\n",
      "Epoch 28/150\n",
      "1/1 [==============================] - 0s 37ms/step - loss: 0.4374 - accuracy: 0.8400 - val_loss: 0.3783 - val_accuracy: 0.9091\n",
      "Epoch 29/150\n",
      "1/1 [==============================] - 0s 38ms/step - loss: 0.4307 - accuracy: 0.8400 - val_loss: 0.3719 - val_accuracy: 0.9091\n",
      "Epoch 30/150\n",
      "1/1 [==============================] - 0s 36ms/step - loss: 0.4236 - accuracy: 0.8400 - val_loss: 0.3653 - val_accuracy: 0.9091\n",
      "Epoch 31/150\n",
      "1/1 [==============================] - 0s 39ms/step - loss: 0.4165 - accuracy: 0.8800 - val_loss: 0.3582 - val_accuracy: 0.9091\n",
      "Epoch 32/150\n",
      "1/1 [==============================] - 0s 37ms/step - loss: 0.4088 - accuracy: 0.8800 - val_loss: 0.3508 - val_accuracy: 0.9091\n",
      "Epoch 33/150\n",
      "1/1 [==============================] - 0s 51ms/step - loss: 0.4005 - accuracy: 0.8800 - val_loss: 0.3428 - val_accuracy: 0.9091\n",
      "Epoch 34/150\n",
      "1/1 [==============================] - 0s 36ms/step - loss: 0.3917 - accuracy: 0.8800 - val_loss: 0.3349 - val_accuracy: 0.9091\n",
      "Epoch 35/150\n",
      "1/1 [==============================] - 0s 37ms/step - loss: 0.3831 - accuracy: 0.8800 - val_loss: 0.3271 - val_accuracy: 0.9091\n",
      "Epoch 36/150\n",
      "1/1 [==============================] - 0s 37ms/step - loss: 0.3744 - accuracy: 0.8800 - val_loss: 0.3193 - val_accuracy: 0.9091\n",
      "Epoch 37/150\n",
      "1/1 [==============================] - 0s 37ms/step - loss: 0.3657 - accuracy: 0.8800 - val_loss: 0.3114 - val_accuracy: 0.9091\n",
      "Epoch 38/150\n",
      "1/1 [==============================] - 0s 44ms/step - loss: 0.3567 - accuracy: 0.8800 - val_loss: 0.3035 - val_accuracy: 0.9091\n",
      "Epoch 39/150\n",
      "1/1 [==============================] - 0s 53ms/step - loss: 0.3476 - accuracy: 0.8800 - val_loss: 0.2956 - val_accuracy: 0.9091\n",
      "Epoch 40/150\n",
      "1/1 [==============================] - 0s 39ms/step - loss: 0.3390 - accuracy: 0.8800 - val_loss: 0.2879 - val_accuracy: 0.9091\n",
      "Epoch 41/150\n",
      "1/1 [==============================] - 0s 38ms/step - loss: 0.3307 - accuracy: 0.8800 - val_loss: 0.2804 - val_accuracy: 0.9091\n",
      "Epoch 42/150\n",
      "1/1 [==============================] - 0s 37ms/step - loss: 0.3227 - accuracy: 0.8800 - val_loss: 0.2731 - val_accuracy: 0.9091\n",
      "Epoch 43/150\n",
      "1/1 [==============================] - 0s 43ms/step - loss: 0.3152 - accuracy: 0.8800 - val_loss: 0.2662 - val_accuracy: 0.9091\n",
      "Epoch 44/150\n",
      "1/1 [==============================] - 0s 37ms/step - loss: 0.3078 - accuracy: 0.8800 - val_loss: 0.2595 - val_accuracy: 0.9091\n",
      "Epoch 45/150\n",
      "1/1 [==============================] - 0s 39ms/step - loss: 0.3006 - accuracy: 0.8800 - val_loss: 0.2531 - val_accuracy: 0.9091\n",
      "Epoch 46/150\n",
      "1/1 [==============================] - 0s 38ms/step - loss: 0.2936 - accuracy: 0.8800 - val_loss: 0.2468 - val_accuracy: 0.9091\n",
      "Epoch 47/150\n",
      "1/1 [==============================] - 0s 34ms/step - loss: 0.2869 - accuracy: 0.9200 - val_loss: 0.2407 - val_accuracy: 0.9091\n",
      "Epoch 48/150\n",
      "1/1 [==============================] - 0s 34ms/step - loss: 0.2805 - accuracy: 0.9200 - val_loss: 0.2348 - val_accuracy: 0.9091\n",
      "Epoch 49/150\n",
      "1/1 [==============================] - 0s 34ms/step - loss: 0.2738 - accuracy: 0.9200 - val_loss: 0.2296 - val_accuracy: 0.9091\n",
      "Epoch 50/150\n",
      "1/1 [==============================] - 0s 34ms/step - loss: 0.2671 - accuracy: 0.9600 - val_loss: 0.2254 - val_accuracy: 0.9091\n",
      "Epoch 51/150\n",
      "1/1 [==============================] - 0s 34ms/step - loss: 0.2602 - accuracy: 0.9600 - val_loss: 0.2210 - val_accuracy: 1.0000\n",
      "Epoch 52/150\n",
      "1/1 [==============================] - 0s 35ms/step - loss: 0.2534 - accuracy: 0.9600 - val_loss: 0.2168 - val_accuracy: 1.0000\n",
      "Epoch 53/150\n",
      "1/1 [==============================] - 0s 43ms/step - loss: 0.2468 - accuracy: 0.9600 - val_loss: 0.2128 - val_accuracy: 1.0000\n",
      "Epoch 54/150\n",
      "1/1 [==============================] - 0s 33ms/step - loss: 0.2407 - accuracy: 0.9600 - val_loss: 0.2089 - val_accuracy: 1.0000\n",
      "Epoch 55/150\n",
      "1/1 [==============================] - 0s 33ms/step - loss: 0.2351 - accuracy: 0.9600 - val_loss: 0.2048 - val_accuracy: 1.0000\n",
      "Epoch 56/150\n",
      "1/1 [==============================] - 0s 35ms/step - loss: 0.2295 - accuracy: 0.9600 - val_loss: 0.2002 - val_accuracy: 1.0000\n",
      "Epoch 57/150\n",
      "1/1 [==============================] - 0s 33ms/step - loss: 0.2238 - accuracy: 0.9600 - val_loss: 0.1952 - val_accuracy: 1.0000\n",
      "Epoch 58/150\n",
      "1/1 [==============================] - 0s 34ms/step - loss: 0.2181 - accuracy: 0.9600 - val_loss: 0.1901 - val_accuracy: 1.0000\n",
      "Epoch 59/150\n",
      "1/1 [==============================] - 0s 37ms/step - loss: 0.2125 - accuracy: 0.9600 - val_loss: 0.1850 - val_accuracy: 1.0000\n",
      "Epoch 60/150\n",
      "1/1 [==============================] - 0s 34ms/step - loss: 0.2070 - accuracy: 0.9600 - val_loss: 0.1799 - val_accuracy: 1.0000\n",
      "Epoch 61/150\n",
      "1/1 [==============================] - 0s 34ms/step - loss: 0.2016 - accuracy: 1.0000 - val_loss: 0.1749 - val_accuracy: 1.0000\n",
      "Epoch 62/150\n",
      "1/1 [==============================] - 0s 35ms/step - loss: 0.1964 - accuracy: 1.0000 - val_loss: 0.1701 - val_accuracy: 1.0000\n",
      "Epoch 63/150\n",
      "1/1 [==============================] - 0s 46ms/step - loss: 0.1912 - accuracy: 1.0000 - val_loss: 0.1654 - val_accuracy: 1.0000\n",
      "Epoch 64/150\n",
      "1/1 [==============================] - 0s 34ms/step - loss: 0.1863 - accuracy: 1.0000 - val_loss: 0.1607 - val_accuracy: 1.0000\n",
      "Epoch 65/150\n",
      "1/1 [==============================] - 0s 33ms/step - loss: 0.1815 - accuracy: 1.0000 - val_loss: 0.1562 - val_accuracy: 1.0000\n",
      "Epoch 66/150\n",
      "1/1 [==============================] - 0s 42ms/step - loss: 0.1768 - accuracy: 1.0000 - val_loss: 0.1518 - val_accuracy: 1.0000\n",
      "Epoch 67/150\n",
      "1/1 [==============================] - 0s 44ms/step - loss: 0.1722 - accuracy: 1.0000 - val_loss: 0.1476 - val_accuracy: 1.0000\n",
      "Epoch 68/150\n",
      "1/1 [==============================] - 0s 38ms/step - loss: 0.1678 - accuracy: 1.0000 - val_loss: 0.1436 - val_accuracy: 1.0000\n",
      "Epoch 69/150\n",
      "1/1 [==============================] - 0s 34ms/step - loss: 0.1635 - accuracy: 1.0000 - val_loss: 0.1398 - val_accuracy: 1.0000\n",
      "Epoch 70/150\n",
      "1/1 [==============================] - 0s 34ms/step - loss: 0.1593 - accuracy: 1.0000 - val_loss: 0.1361 - val_accuracy: 1.0000\n",
      "Epoch 71/150\n",
      "1/1 [==============================] - 0s 34ms/step - loss: 0.1551 - accuracy: 1.0000 - val_loss: 0.1324 - val_accuracy: 1.0000\n",
      "Epoch 72/150\n",
      "1/1 [==============================] - 0s 34ms/step - loss: 0.1511 - accuracy: 1.0000 - val_loss: 0.1289 - val_accuracy: 1.0000\n",
      "Epoch 73/150\n",
      "1/1 [==============================] - 0s 54ms/step - loss: 0.1473 - accuracy: 1.0000 - val_loss: 0.1255 - val_accuracy: 1.0000\n",
      "Epoch 74/150\n",
      "1/1 [==============================] - 0s 38ms/step - loss: 0.1438 - accuracy: 1.0000 - val_loss: 0.1221 - val_accuracy: 1.0000\n",
      "Epoch 75/150\n",
      "1/1 [==============================] - 0s 34ms/step - loss: 0.1404 - accuracy: 1.0000 - val_loss: 0.1189 - val_accuracy: 1.0000\n",
      "Epoch 76/150\n",
      "1/1 [==============================] - 0s 34ms/step - loss: 0.1371 - accuracy: 1.0000 - val_loss: 0.1159 - val_accuracy: 1.0000\n",
      "Epoch 77/150\n",
      "1/1 [==============================] - 0s 34ms/step - loss: 0.1340 - accuracy: 1.0000 - val_loss: 0.1129 - val_accuracy: 1.0000\n",
      "Epoch 78/150\n",
      "1/1 [==============================] - 0s 35ms/step - loss: 0.1308 - accuracy: 1.0000 - val_loss: 0.1099 - val_accuracy: 1.0000\n",
      "Epoch 79/150\n",
      "1/1 [==============================] - 0s 33ms/step - loss: 0.1277 - accuracy: 1.0000 - val_loss: 0.1070 - val_accuracy: 1.0000\n",
      "Epoch 80/150\n",
      "1/1 [==============================] - 0s 35ms/step - loss: 0.1246 - accuracy: 1.0000 - val_loss: 0.1043 - val_accuracy: 1.0000\n",
      "Epoch 81/150\n",
      "1/1 [==============================] - 0s 33ms/step - loss: 0.1213 - accuracy: 1.0000 - val_loss: 0.1017 - val_accuracy: 1.0000\n",
      "Epoch 82/150\n",
      "1/1 [==============================] - 0s 34ms/step - loss: 0.1181 - accuracy: 1.0000 - val_loss: 0.0989 - val_accuracy: 1.0000\n",
      "Epoch 83/150\n",
      "1/1 [==============================] - 0s 42ms/step - loss: 0.1149 - accuracy: 1.0000 - val_loss: 0.0957 - val_accuracy: 1.0000\n",
      "Epoch 84/150\n",
      "1/1 [==============================] - 0s 32ms/step - loss: 0.1118 - accuracy: 1.0000 - val_loss: 0.0926 - val_accuracy: 1.0000\n",
      "Epoch 85/150\n",
      "1/1 [==============================] - 0s 33ms/step - loss: 0.1087 - accuracy: 1.0000 - val_loss: 0.0895 - val_accuracy: 1.0000\n",
      "Epoch 86/150\n",
      "1/1 [==============================] - 0s 34ms/step - loss: 0.1057 - accuracy: 1.0000 - val_loss: 0.0866 - val_accuracy: 1.0000\n",
      "Epoch 87/150\n",
      "1/1 [==============================] - 0s 35ms/step - loss: 0.1028 - accuracy: 1.0000 - val_loss: 0.0832 - val_accuracy: 1.0000\n",
      "Epoch 88/150\n",
      "1/1 [==============================] - 0s 36ms/step - loss: 0.0998 - accuracy: 1.0000 - val_loss: 0.0797 - val_accuracy: 1.0000\n",
      "Epoch 89/150\n",
      "1/1 [==============================] - 0s 33ms/step - loss: 0.0966 - accuracy: 1.0000 - val_loss: 0.0764 - val_accuracy: 1.0000\n",
      "Epoch 90/150\n",
      "1/1 [==============================] - 0s 34ms/step - loss: 0.0935 - accuracy: 1.0000 - val_loss: 0.0732 - val_accuracy: 1.0000\n",
      "Epoch 91/150\n",
      "1/1 [==============================] - 0s 35ms/step - loss: 0.0906 - accuracy: 1.0000 - val_loss: 0.0701 - val_accuracy: 1.0000\n",
      "Epoch 92/150\n",
      "1/1 [==============================] - 0s 44ms/step - loss: 0.0877 - accuracy: 1.0000 - val_loss: 0.0671 - val_accuracy: 1.0000\n",
      "Epoch 93/150\n",
      "1/1 [==============================] - 0s 33ms/step - loss: 0.0849 - accuracy: 1.0000 - val_loss: 0.0642 - val_accuracy: 1.0000\n",
      "Epoch 94/150\n",
      "1/1 [==============================] - 0s 34ms/step - loss: 0.0821 - accuracy: 1.0000 - val_loss: 0.0614 - val_accuracy: 1.0000\n",
      "Epoch 95/150\n",
      "1/1 [==============================] - 0s 33ms/step - loss: 0.0791 - accuracy: 1.0000 - val_loss: 0.0586 - val_accuracy: 1.0000\n",
      "Epoch 96/150\n",
      "1/1 [==============================] - 0s 34ms/step - loss: 0.0762 - accuracy: 1.0000 - val_loss: 0.0559 - val_accuracy: 1.0000\n",
      "Epoch 97/150\n",
      "1/1 [==============================] - 0s 33ms/step - loss: 0.0733 - accuracy: 1.0000 - val_loss: 0.0534 - val_accuracy: 1.0000\n",
      "Epoch 98/150\n",
      "1/1 [==============================] - 0s 34ms/step - loss: 0.0708 - accuracy: 1.0000 - val_loss: 0.0509 - val_accuracy: 1.0000\n",
      "Epoch 99/150\n",
      "1/1 [==============================] - 0s 34ms/step - loss: 0.0684 - accuracy: 1.0000 - val_loss: 0.0486 - val_accuracy: 1.0000\n",
      "Epoch 100/150\n",
      "1/1 [==============================] - 0s 34ms/step - loss: 0.0664 - accuracy: 1.0000 - val_loss: 0.0464 - val_accuracy: 1.0000\n",
      "Epoch 101/150\n",
      "1/1 [==============================] - 0s 33ms/step - loss: 0.0644 - accuracy: 1.0000 - val_loss: 0.0444 - val_accuracy: 1.0000\n",
      "Epoch 102/150\n",
      "1/1 [==============================] - 0s 46ms/step - loss: 0.0626 - accuracy: 1.0000 - val_loss: 0.0425 - val_accuracy: 1.0000\n",
      "Epoch 103/150\n",
      "1/1 [==============================] - 0s 34ms/step - loss: 0.0607 - accuracy: 1.0000 - val_loss: 0.0408 - val_accuracy: 1.0000\n",
      "Epoch 104/150\n",
      "1/1 [==============================] - 0s 34ms/step - loss: 0.0589 - accuracy: 1.0000 - val_loss: 0.0394 - val_accuracy: 1.0000\n",
      "Epoch 105/150\n",
      "1/1 [==============================] - 0s 34ms/step - loss: 0.0572 - accuracy: 1.0000 - val_loss: 0.0380 - val_accuracy: 1.0000\n",
      "Epoch 106/150\n",
      "1/1 [==============================] - 0s 34ms/step - loss: 0.0555 - accuracy: 1.0000 - val_loss: 0.0367 - val_accuracy: 1.0000\n",
      "Epoch 107/150\n",
      "1/1 [==============================] - 0s 34ms/step - loss: 0.0539 - accuracy: 1.0000 - val_loss: 0.0354 - val_accuracy: 1.0000\n",
      "Epoch 108/150\n",
      "1/1 [==============================] - 0s 41ms/step - loss: 0.0524 - accuracy: 1.0000 - val_loss: 0.0342 - val_accuracy: 1.0000\n",
      "Epoch 109/150\n",
      "1/1 [==============================] - 0s 33ms/step - loss: 0.0512 - accuracy: 1.0000 - val_loss: 0.0330 - val_accuracy: 1.0000\n",
      "Epoch 110/150\n",
      "1/1 [==============================] - 0s 34ms/step - loss: 0.0501 - accuracy: 1.0000 - val_loss: 0.0319 - val_accuracy: 1.0000\n",
      "Epoch 111/150\n",
      "1/1 [==============================] - 0s 35ms/step - loss: 0.0490 - accuracy: 1.0000 - val_loss: 0.0309 - val_accuracy: 1.0000\n",
      "Epoch 112/150\n",
      "1/1 [==============================] - 0s 46ms/step - loss: 0.0481 - accuracy: 1.0000 - val_loss: 0.0300 - val_accuracy: 1.0000\n",
      "Epoch 113/150\n",
      "1/1 [==============================] - 0s 34ms/step - loss: 0.0472 - accuracy: 1.0000 - val_loss: 0.0291 - val_accuracy: 1.0000\n",
      "Epoch 114/150\n",
      "1/1 [==============================] - 0s 33ms/step - loss: 0.0463 - accuracy: 1.0000 - val_loss: 0.0282 - val_accuracy: 1.0000\n",
      "Epoch 115/150\n",
      "1/1 [==============================] - 0s 33ms/step - loss: 0.0455 - accuracy: 1.0000 - val_loss: 0.0274 - val_accuracy: 1.0000\n",
      "Epoch 116/150\n",
      "1/1 [==============================] - 0s 34ms/step - loss: 0.0446 - accuracy: 1.0000 - val_loss: 0.0266 - val_accuracy: 1.0000\n",
      "Epoch 117/150\n"
     ]
    },
    {
     "name": "stdout",
     "output_type": "stream",
     "text": [
      "1/1 [==============================] - 0s 33ms/step - loss: 0.0439 - accuracy: 1.0000 - val_loss: 0.0258 - val_accuracy: 1.0000\n",
      "Epoch 118/150\n",
      "1/1 [==============================] - 0s 36ms/step - loss: 0.0431 - accuracy: 1.0000 - val_loss: 0.0250 - val_accuracy: 1.0000\n",
      "Epoch 119/150\n",
      "1/1 [==============================] - 0s 36ms/step - loss: 0.0423 - accuracy: 1.0000 - val_loss: 0.0243 - val_accuracy: 1.0000\n",
      "Epoch 120/150\n",
      "1/1 [==============================] - 0s 33ms/step - loss: 0.0416 - accuracy: 1.0000 - val_loss: 0.0237 - val_accuracy: 1.0000\n",
      "Epoch 121/150\n",
      "1/1 [==============================] - 0s 34ms/step - loss: 0.0409 - accuracy: 1.0000 - val_loss: 0.0231 - val_accuracy: 1.0000\n",
      "Epoch 122/150\n",
      "1/1 [==============================] - 0s 45ms/step - loss: 0.0402 - accuracy: 1.0000 - val_loss: 0.0225 - val_accuracy: 1.0000\n",
      "Epoch 123/150\n",
      "1/1 [==============================] - 0s 33ms/step - loss: 0.0395 - accuracy: 1.0000 - val_loss: 0.0219 - val_accuracy: 1.0000\n",
      "Epoch 124/150\n",
      "1/1 [==============================] - 0s 33ms/step - loss: 0.0389 - accuracy: 1.0000 - val_loss: 0.0213 - val_accuracy: 1.0000\n",
      "Epoch 125/150\n",
      "1/1 [==============================] - 0s 34ms/step - loss: 0.0382 - accuracy: 1.0000 - val_loss: 0.0208 - val_accuracy: 1.0000\n",
      "Epoch 126/150\n",
      "1/1 [==============================] - 0s 34ms/step - loss: 0.0376 - accuracy: 1.0000 - val_loss: 0.0203 - val_accuracy: 1.0000\n",
      "Epoch 127/150\n",
      "1/1 [==============================] - 0s 33ms/step - loss: 0.0370 - accuracy: 1.0000 - val_loss: 0.0198 - val_accuracy: 1.0000\n",
      "Epoch 128/150\n",
      "1/1 [==============================] - 0s 35ms/step - loss: 0.0363 - accuracy: 1.0000 - val_loss: 0.0193 - val_accuracy: 1.0000\n",
      "Epoch 129/150\n",
      "1/1 [==============================] - 0s 34ms/step - loss: 0.0357 - accuracy: 1.0000 - val_loss: 0.0188 - val_accuracy: 1.0000\n",
      "Epoch 130/150\n",
      "1/1 [==============================] - 0s 34ms/step - loss: 0.0351 - accuracy: 1.0000 - val_loss: 0.0183 - val_accuracy: 1.0000\n",
      "Epoch 131/150\n",
      "1/1 [==============================] - 0s 36ms/step - loss: 0.0346 - accuracy: 1.0000 - val_loss: 0.0179 - val_accuracy: 1.0000\n",
      "Epoch 132/150\n",
      "1/1 [==============================] - 0s 43ms/step - loss: 0.0340 - accuracy: 1.0000 - val_loss: 0.0174 - val_accuracy: 1.0000\n",
      "Epoch 133/150\n",
      "1/1 [==============================] - 0s 35ms/step - loss: 0.0335 - accuracy: 1.0000 - val_loss: 0.0171 - val_accuracy: 1.0000\n",
      "Epoch 134/150\n",
      "1/1 [==============================] - 0s 34ms/step - loss: 0.0330 - accuracy: 1.0000 - val_loss: 0.0167 - val_accuracy: 1.0000\n",
      "Epoch 135/150\n",
      "1/1 [==============================] - 0s 34ms/step - loss: 0.0325 - accuracy: 1.0000 - val_loss: 0.0163 - val_accuracy: 1.0000\n",
      "Epoch 136/150\n",
      "1/1 [==============================] - 0s 35ms/step - loss: 0.0320 - accuracy: 1.0000 - val_loss: 0.0159 - val_accuracy: 1.0000\n",
      "Epoch 137/150\n",
      "1/1 [==============================] - 0s 34ms/step - loss: 0.0316 - accuracy: 1.0000 - val_loss: 0.0155 - val_accuracy: 1.0000\n",
      "Epoch 138/150\n",
      "1/1 [==============================] - 0s 35ms/step - loss: 0.0311 - accuracy: 1.0000 - val_loss: 0.0151 - val_accuracy: 1.0000\n",
      "Epoch 139/150\n",
      "1/1 [==============================] - 0s 35ms/step - loss: 0.0307 - accuracy: 1.0000 - val_loss: 0.0147 - val_accuracy: 1.0000\n",
      "Epoch 140/150\n",
      "1/1 [==============================] - 0s 33ms/step - loss: 0.0302 - accuracy: 1.0000 - val_loss: 0.0143 - val_accuracy: 1.0000\n",
      "Epoch 141/150\n",
      "1/1 [==============================] - 0s 34ms/step - loss: 0.0298 - accuracy: 1.0000 - val_loss: 0.0138 - val_accuracy: 1.0000\n",
      "Epoch 142/150\n",
      "1/1 [==============================] - 0s 43ms/step - loss: 0.0294 - accuracy: 1.0000 - val_loss: 0.0134 - val_accuracy: 1.0000\n",
      "Epoch 143/150\n",
      "1/1 [==============================] - 0s 36ms/step - loss: 0.0290 - accuracy: 1.0000 - val_loss: 0.0130 - val_accuracy: 1.0000\n",
      "Epoch 144/150\n",
      "1/1 [==============================] - 0s 42ms/step - loss: 0.0286 - accuracy: 1.0000 - val_loss: 0.0127 - val_accuracy: 1.0000\n",
      "Epoch 145/150\n",
      "1/1 [==============================] - 0s 43ms/step - loss: 0.0280 - accuracy: 1.0000 - val_loss: 0.0122 - val_accuracy: 1.0000\n",
      "Epoch 146/150\n",
      "1/1 [==============================] - 0s 44ms/step - loss: 0.0274 - accuracy: 1.0000 - val_loss: 0.0118 - val_accuracy: 1.0000\n",
      "Epoch 147/150\n",
      "1/1 [==============================] - 0s 42ms/step - loss: 0.0268 - accuracy: 1.0000 - val_loss: 0.0114 - val_accuracy: 1.0000\n",
      "Epoch 148/150\n",
      "1/1 [==============================] - 0s 39ms/step - loss: 0.0261 - accuracy: 1.0000 - val_loss: 0.0109 - val_accuracy: 1.0000\n",
      "Epoch 149/150\n",
      "1/1 [==============================] - 0s 41ms/step - loss: 0.0255 - accuracy: 1.0000 - val_loss: 0.0105 - val_accuracy: 1.0000\n",
      "Epoch 150/150\n",
      "1/1 [==============================] - 0s 62ms/step - loss: 0.0249 - accuracy: 1.0000 - val_loss: 0.0101 - val_accuracy: 1.0000\n"
     ]
    },
    {
     "data": {
      "text/plain": [
       "<tensorflow.python.keras.callbacks.History at 0x150e1c290>"
      ]
     },
     "execution_count": 10,
     "metadata": {},
     "output_type": "execute_result"
    }
   ],
   "source": [
    "#This step is carried out for the purpose of redult reproducibility\n",
    "seed_value = 212\n",
    "#Note to self 977 = 100% with 50 batches \n",
    "#212\n",
    "\n",
    "# Set Python random seed using environment variable\n",
    "import os\n",
    "os.environ['PYTHONHASHSEED']=str(seed_value)\n",
    "\n",
    "# Set Numpy random seed\n",
    "import random\n",
    "np.random.seed(seed_value)\n",
    "\n",
    "# Set TensorFlow random seed\n",
    "import tensorflow as tf\n",
    "tf.random.set_seed(seed_value) \n",
    "\n",
    "#Importing relevant libraries from tensorflow\n",
    "\n",
    "\n",
    "from tensorflow.keras.models import Sequential\n",
    "from tensorflow.keras.layers import Dense\n",
    "\n",
    "#This ANN has 3 hidden laters \n",
    "tf.keras.backend.set_floatx('float64')\n",
    "\n",
    "ann_a_hyd = Sequential()\n",
    "\n",
    "ann_a_hyd.add(Dense(units=3,  activation ='relu'))\n",
    "ann_a_hyd.add(Dense(units=10, activation ='relu'))\n",
    "ann_a_hyd.add(Dense(units=20, activation ='relu'))\n",
    "ann_a_hyd.add(Dense(units=20, activation ='relu'))\n",
    "ann_a_hyd.add(Dense(units=10, activation ='relu'))\n",
    "ann_a_hyd.add(Dense(units=1,  activation ='sigmoid'))\n",
    "\n",
    "\n",
    "ann_a_hyd.compile(optimizer = \"adam\" , \n",
    "           loss= \"binary_crossentropy\" ,\n",
    "           metrics=['accuracy'])\n",
    "\n",
    "\n",
    "ann_a_hyd.fit(x_a_train, y_a_train, \n",
    "            epochs=150, batch_size =50, validation_split=0.3)\n",
    "\n"
   ]
  },
  {
   "cell_type": "code",
   "execution_count": 11,
   "metadata": {},
   "outputs": [],
   "source": [
    "#ploting the keys of the ANN \n",
    "#ann_a_hyd.history.history.keys()"
   ]
  },
  {
   "cell_type": "code",
   "execution_count": 12,
   "metadata": {},
   "outputs": [
    {
     "data": {
      "text/plain": [
       "<matplotlib.legend.Legend at 0x15119ee90>"
      ]
     },
     "execution_count": 12,
     "metadata": {},
     "output_type": "execute_result"
    },
    {
     "data": {
      "image/png": "[encoded data removed]",
      "text/plain": [
       "<Figure size 504x360 with 1 Axes>"
      ]
     },
     "metadata": {
      "needs_background": "light"
     },
     "output_type": "display_data"
    }
   ],
   "source": [
    "import matplotlib.pyplot as plt\n",
    "plt.subplots(figsize=(7,5))\n",
    "\n",
    "figure1:plt.plot(ann_a_hyd.history.history['accuracy'])\n",
    "figure2:plt.plot(ann_a_hyd.history.history['val_accuracy'])\n",
    "figure3:plt.plot(ann_a_hyd.history.history['loss'])\n",
    "figure4:plt.plot(ann_a_hyd.history.history['val_loss'])\n",
    "\n",
    "\n",
    "plt.legend(['Training accuracy', 'val_accuracy', 'Training loss', 'val_loss'])\n"
   ]
  },
  {
   "cell_type": "code",
   "execution_count": 13,
   "metadata": {},
   "outputs": [
    {
     "name": "stdout",
     "output_type": "stream",
     "text": [
      "1/1 [==============================] - 0s 2ms/step - loss: 0.0897 - accuracy: 0.9200\n"
     ]
    },
    {
     "data": {
      "text/plain": [
       "[0.08967621624469757, 0.92]"
      ]
     },
     "execution_count": 13,
     "metadata": {},
     "output_type": "execute_result"
    }
   ],
   "source": [
    "ann_a_hyd.evaluate(x_a_test, y_a_test)"
   ]
  },
  {
   "cell_type": "markdown",
   "metadata": {},
   "source": [
    "The developed ANN model has a ccuracy of approxiamtely 100%\n",
    "As a rule of thumb, the Accuracy should be higher than the val_accurracy"
   ]
  },
  {
   "cell_type": "code",
   "execution_count": 14,
   "metadata": {},
   "outputs": [],
   "source": [
    "#Saving this model\n",
    "ann_a_hyd.save('ann_model_hyd.h5')\n",
    "\n",
    "#to loadup model, uncomment the codes below\n",
    "#from keras.models import load_model\n",
    "#variable name = load_model('ann_model_hyd.h5')"
   ]
  },
  {
   "cell_type": "code",
   "execution_count": 15,
   "metadata": {
    "scrolled": false
   },
   "outputs": [
    {
     "data": {
      "text/html": [
       "<div>\n",
       "<style scoped>\n",
       "    .dataframe tbody tr th:only-of-type {\n",
       "        vertical-align: middle;\n",
       "    }\n",
       "\n",
       "    .dataframe tbody tr th {\n",
       "        vertical-align: top;\n",
       "    }\n",
       "\n",
       "    .dataframe thead th {\n",
       "        text-align: right;\n",
       "    }\n",
       "</style>\n",
       "<table border=\"1\" class=\"dataframe\">\n",
       "  <thead>\n",
       "    <tr style=\"text-align: right;\">\n",
       "      <th></th>\n",
       "      <th>Predicted Value</th>\n",
       "      <th>Actual Values</th>\n",
       "    </tr>\n",
       "  </thead>\n",
       "  <tbody>\n",
       "    <tr>\n",
       "      <td>0</td>\n",
       "      <td>0.0</td>\n",
       "      <td>0</td>\n",
       "    </tr>\n",
       "    <tr>\n",
       "      <td>1</td>\n",
       "      <td>0.0</td>\n",
       "      <td>0</td>\n",
       "    </tr>\n",
       "    <tr>\n",
       "      <td>2</td>\n",
       "      <td>0.0</td>\n",
       "      <td>0</td>\n",
       "    </tr>\n",
       "    <tr>\n",
       "      <td>3</td>\n",
       "      <td>0.0</td>\n",
       "      <td>0</td>\n",
       "    </tr>\n",
       "    <tr>\n",
       "      <td>4</td>\n",
       "      <td>0.0</td>\n",
       "      <td>0</td>\n",
       "    </tr>\n",
       "    <tr>\n",
       "      <td>5</td>\n",
       "      <td>0.0</td>\n",
       "      <td>0</td>\n",
       "    </tr>\n",
       "    <tr>\n",
       "      <td>6</td>\n",
       "      <td>0.0</td>\n",
       "      <td>0</td>\n",
       "    </tr>\n",
       "    <tr>\n",
       "      <td>7</td>\n",
       "      <td>0.0</td>\n",
       "      <td>0</td>\n",
       "    </tr>\n",
       "    <tr>\n",
       "      <td>8</td>\n",
       "      <td>0.0</td>\n",
       "      <td>0</td>\n",
       "    </tr>\n",
       "    <tr>\n",
       "      <td>9</td>\n",
       "      <td>0.0</td>\n",
       "      <td>0</td>\n",
       "    </tr>\n",
       "    <tr>\n",
       "      <td>10</td>\n",
       "      <td>0.0</td>\n",
       "      <td>0</td>\n",
       "    </tr>\n",
       "    <tr>\n",
       "      <td>11</td>\n",
       "      <td>0.0</td>\n",
       "      <td>0</td>\n",
       "    </tr>\n",
       "    <tr>\n",
       "      <td>12</td>\n",
       "      <td>0.0</td>\n",
       "      <td>0</td>\n",
       "    </tr>\n",
       "    <tr>\n",
       "      <td>13</td>\n",
       "      <td>0.0</td>\n",
       "      <td>0</td>\n",
       "    </tr>\n",
       "    <tr>\n",
       "      <td>14</td>\n",
       "      <td>0.0</td>\n",
       "      <td>0</td>\n",
       "    </tr>\n",
       "    <tr>\n",
       "      <td>15</td>\n",
       "      <td>0.0</td>\n",
       "      <td>0</td>\n",
       "    </tr>\n",
       "    <tr>\n",
       "      <td>16</td>\n",
       "      <td>0.0</td>\n",
       "      <td>0</td>\n",
       "    </tr>\n",
       "    <tr>\n",
       "      <td>17</td>\n",
       "      <td>0.0</td>\n",
       "      <td>0</td>\n",
       "    </tr>\n",
       "    <tr>\n",
       "      <td>18</td>\n",
       "      <td>0.0</td>\n",
       "      <td>0</td>\n",
       "    </tr>\n",
       "    <tr>\n",
       "      <td>19</td>\n",
       "      <td>0.0</td>\n",
       "      <td>0</td>\n",
       "    </tr>\n",
       "    <tr>\n",
       "      <td>20</td>\n",
       "      <td>0.0</td>\n",
       "      <td>0</td>\n",
       "    </tr>\n",
       "    <tr>\n",
       "      <td>21</td>\n",
       "      <td>0.0</td>\n",
       "      <td>0</td>\n",
       "    </tr>\n",
       "    <tr>\n",
       "      <td>22</td>\n",
       "      <td>0.0</td>\n",
       "      <td>0</td>\n",
       "    </tr>\n",
       "    <tr>\n",
       "      <td>23</td>\n",
       "      <td>0.0</td>\n",
       "      <td>0</td>\n",
       "    </tr>\n",
       "    <tr>\n",
       "      <td>24</td>\n",
       "      <td>0.0</td>\n",
       "      <td>0</td>\n",
       "    </tr>\n",
       "    <tr>\n",
       "      <td>25</td>\n",
       "      <td>0.0</td>\n",
       "      <td>0</td>\n",
       "    </tr>\n",
       "    <tr>\n",
       "      <td>26</td>\n",
       "      <td>0.0</td>\n",
       "      <td>0</td>\n",
       "    </tr>\n",
       "    <tr>\n",
       "      <td>27</td>\n",
       "      <td>0.0</td>\n",
       "      <td>0</td>\n",
       "    </tr>\n",
       "    <tr>\n",
       "      <td>28</td>\n",
       "      <td>0.0</td>\n",
       "      <td>0</td>\n",
       "    </tr>\n",
       "    <tr>\n",
       "      <td>29</td>\n",
       "      <td>0.0</td>\n",
       "      <td>0</td>\n",
       "    </tr>\n",
       "    <tr>\n",
       "      <td>30</td>\n",
       "      <td>0.0</td>\n",
       "      <td>0</td>\n",
       "    </tr>\n",
       "    <tr>\n",
       "      <td>31</td>\n",
       "      <td>0.0</td>\n",
       "      <td>0</td>\n",
       "    </tr>\n",
       "    <tr>\n",
       "      <td>32</td>\n",
       "      <td>0.0</td>\n",
       "      <td>0</td>\n",
       "    </tr>\n",
       "    <tr>\n",
       "      <td>33</td>\n",
       "      <td>0.0</td>\n",
       "      <td>0</td>\n",
       "    </tr>\n",
       "    <tr>\n",
       "      <td>34</td>\n",
       "      <td>0.0</td>\n",
       "      <td>0</td>\n",
       "    </tr>\n",
       "    <tr>\n",
       "      <td>35</td>\n",
       "      <td>0.0</td>\n",
       "      <td>0</td>\n",
       "    </tr>\n",
       "    <tr>\n",
       "      <td>36</td>\n",
       "      <td>0.0</td>\n",
       "      <td>0</td>\n",
       "    </tr>\n",
       "    <tr>\n",
       "      <td>37</td>\n",
       "      <td>0.0</td>\n",
       "      <td>1</td>\n",
       "    </tr>\n",
       "    <tr>\n",
       "      <td>38</td>\n",
       "      <td>0.0</td>\n",
       "      <td>1</td>\n",
       "    </tr>\n",
       "    <tr>\n",
       "      <td>39</td>\n",
       "      <td>1.0</td>\n",
       "      <td>1</td>\n",
       "    </tr>\n",
       "    <tr>\n",
       "      <td>40</td>\n",
       "      <td>1.0</td>\n",
       "      <td>1</td>\n",
       "    </tr>\n",
       "    <tr>\n",
       "      <td>41</td>\n",
       "      <td>1.0</td>\n",
       "      <td>1</td>\n",
       "    </tr>\n",
       "    <tr>\n",
       "      <td>42</td>\n",
       "      <td>1.0</td>\n",
       "      <td>1</td>\n",
       "    </tr>\n",
       "    <tr>\n",
       "      <td>43</td>\n",
       "      <td>1.0</td>\n",
       "      <td>1</td>\n",
       "    </tr>\n",
       "    <tr>\n",
       "      <td>44</td>\n",
       "      <td>1.0</td>\n",
       "      <td>1</td>\n",
       "    </tr>\n",
       "    <tr>\n",
       "      <td>45</td>\n",
       "      <td>1.0</td>\n",
       "      <td>1</td>\n",
       "    </tr>\n",
       "    <tr>\n",
       "      <td>46</td>\n",
       "      <td>1.0</td>\n",
       "      <td>1</td>\n",
       "    </tr>\n",
       "    <tr>\n",
       "      <td>47</td>\n",
       "      <td>1.0</td>\n",
       "      <td>1</td>\n",
       "    </tr>\n",
       "    <tr>\n",
       "      <td>48</td>\n",
       "      <td>1.0</td>\n",
       "      <td>1</td>\n",
       "    </tr>\n",
       "    <tr>\n",
       "      <td>49</td>\n",
       "      <td>1.0</td>\n",
       "      <td>1</td>\n",
       "    </tr>\n",
       "    <tr>\n",
       "      <td>50</td>\n",
       "      <td>1.0</td>\n",
       "      <td>1</td>\n",
       "    </tr>\n",
       "    <tr>\n",
       "      <td>51</td>\n",
       "      <td>1.0</td>\n",
       "      <td>1</td>\n",
       "    </tr>\n",
       "    <tr>\n",
       "      <td>52</td>\n",
       "      <td>1.0</td>\n",
       "      <td>1</td>\n",
       "    </tr>\n",
       "    <tr>\n",
       "      <td>53</td>\n",
       "      <td>1.0</td>\n",
       "      <td>1</td>\n",
       "    </tr>\n",
       "    <tr>\n",
       "      <td>54</td>\n",
       "      <td>1.0</td>\n",
       "      <td>1</td>\n",
       "    </tr>\n",
       "    <tr>\n",
       "      <td>55</td>\n",
       "      <td>1.0</td>\n",
       "      <td>1</td>\n",
       "    </tr>\n",
       "    <tr>\n",
       "      <td>56</td>\n",
       "      <td>1.0</td>\n",
       "      <td>1</td>\n",
       "    </tr>\n",
       "    <tr>\n",
       "      <td>57</td>\n",
       "      <td>1.0</td>\n",
       "      <td>1</td>\n",
       "    </tr>\n",
       "    <tr>\n",
       "      <td>58</td>\n",
       "      <td>1.0</td>\n",
       "      <td>1</td>\n",
       "    </tr>\n",
       "    <tr>\n",
       "      <td>59</td>\n",
       "      <td>1.0</td>\n",
       "      <td>1</td>\n",
       "    </tr>\n",
       "    <tr>\n",
       "      <td>60</td>\n",
       "      <td>1.0</td>\n",
       "      <td>1</td>\n",
       "    </tr>\n",
       "  </tbody>\n",
       "</table>\n",
       "</div>"
      ],
      "text/plain": [
       "    Predicted Value  Actual Values\n",
       "0               0.0              0\n",
       "1               0.0              0\n",
       "2               0.0              0\n",
       "3               0.0              0\n",
       "4               0.0              0\n",
       "5               0.0              0\n",
       "6               0.0              0\n",
       "7               0.0              0\n",
       "8               0.0              0\n",
       "9               0.0              0\n",
       "10              0.0              0\n",
       "11              0.0              0\n",
       "12              0.0              0\n",
       "13              0.0              0\n",
       "14              0.0              0\n",
       "15              0.0              0\n",
       "16              0.0              0\n",
       "17              0.0              0\n",
       "18              0.0              0\n",
       "19              0.0              0\n",
       "20              0.0              0\n",
       "21              0.0              0\n",
       "22              0.0              0\n",
       "23              0.0              0\n",
       "24              0.0              0\n",
       "25              0.0              0\n",
       "26              0.0              0\n",
       "27              0.0              0\n",
       "28              0.0              0\n",
       "29              0.0              0\n",
       "30              0.0              0\n",
       "31              0.0              0\n",
       "32              0.0              0\n",
       "33              0.0              0\n",
       "34              0.0              0\n",
       "35              0.0              0\n",
       "36              0.0              0\n",
       "37              0.0              1\n",
       "38              0.0              1\n",
       "39              1.0              1\n",
       "40              1.0              1\n",
       "41              1.0              1\n",
       "42              1.0              1\n",
       "43              1.0              1\n",
       "44              1.0              1\n",
       "45              1.0              1\n",
       "46              1.0              1\n",
       "47              1.0              1\n",
       "48              1.0              1\n",
       "49              1.0              1\n",
       "50              1.0              1\n",
       "51              1.0              1\n",
       "52              1.0              1\n",
       "53              1.0              1\n",
       "54              1.0              1\n",
       "55              1.0              1\n",
       "56              1.0              1\n",
       "57              1.0              1\n",
       "58              1.0              1\n",
       "59              1.0              1\n",
       "60              1.0              1"
      ]
     },
     "execution_count": 15,
     "metadata": {},
     "output_type": "execute_result"
    }
   ],
   "source": [
    "#Visualising model accuracy on data frame\n",
    "\n",
    "prediction_a = ann_a_hyd.predict(x_a)\n",
    "flatten_a_prediction = prediction_a.flatten()\n",
    "round_up_prediction_a = flatten_a_prediction.round()\n",
    "\n",
    "Predictions_df_a = pd.DataFrame()\n",
    "Predictions_df_a['Predicted Value'] = round_up_prediction_a\n",
    "Predictions_df_a['Actual Values'] = y_a\n",
    "\n",
    "#set data frame to see maximum rows\n",
    "pd.set_option('display.max_rows', None)\n",
    "\n",
    "Predictions_df_a"
   ]
  },
  {
   "cell_type": "code",
   "execution_count": 16,
   "metadata": {},
   "outputs": [
    {
     "data": {
      "text/plain": [
       "Text(0.5, 1.0, 'Distribution of Actual and Predicted Values (ANN - A0.02wt%)')"
      ]
     },
     "execution_count": 16,
     "metadata": {},
     "output_type": "execute_result"
    },
    {
     "data": {
      "image/png": "[encoded data removed]",
      "text/plain": [
       "<Figure size 432x288 with 1 Axes>"
      ]
     },
     "metadata": {
      "needs_background": "light"
     },
     "output_type": "display_data"
    }
   ],
   "source": [
    "#Distribution plot of predicted and actual values\n",
    "ax1 = sns.distplot(y_a, hist=False, color=\"r\", label=\"Actual Value\")\n",
    "sns.distplot(round_up_prediction_a, hist=False, color=\"b\", label=\"Predicted Values\" , ax=ax1)\n",
    "plt.title('Distribution of Actual and Predicted Values (ANN - A0.02wt%)')"
   ]
  },
  {
   "cell_type": "markdown",
   "metadata": {},
   "source": [
    "Using Supervised Learning to predict Pressure behaviour / trend values with Temperature T1 (°C) and Time as inputs"
   ]
  },
  {
   "cell_type": "code",
   "execution_count": 17,
   "metadata": {},
   "outputs": [],
   "source": [
    "x_a_trend = np. array (df_a[['Time','T1 (°C)']])\n",
    "y_a_trend = np.array (df_a['P1 (Psi)'])"
   ]
  },
  {
   "cell_type": "code",
   "execution_count": 18,
   "metadata": {},
   "outputs": [],
   "source": [
    "#Splitting Test and Training dataset\n",
    "\n",
    "x_a_trend_train ,x_a_trend_test, y_a_trend_train, y_a_trend_test = tts(x_a_trend, y_a_trend,\n",
    "                                                                       train_size=0.6,random_state = 45)"
   ]
  },
  {
   "cell_type": "code",
   "execution_count": null,
   "metadata": {},
   "outputs": [],
   "source": []
  },
  {
   "cell_type": "code",
   "execution_count": 19,
   "metadata": {},
   "outputs": [
    {
     "name": "stdout",
     "output_type": "stream",
     "text": [
      "[23:44:06] WARNING: src/objective/regression_obj.cu:152: reg:linear is now deprecated in favor of reg:squarederror.\n"
     ]
    },
    {
     "data": {
      "text/plain": [
       "0.9999679050069445"
      ]
     },
     "execution_count": 19,
     "metadata": {},
     "output_type": "execute_result"
    }
   ],
   "source": [
    "#Using XGBoost Regressor\n",
    "import xgboost as xgb\n",
    "\n",
    "model_xgb = xgb.XGBRegressor(booster= 'gbtree')\n",
    "xgb_a = model_xgb.fit(x_a_trend_test,y_a_trend_test)\n",
    "xgb_a.score(x_a_trend_test,y_a_trend_test)"
   ]
  },
  {
   "cell_type": "code",
   "execution_count": 20,
   "metadata": {},
   "outputs": [
    {
     "data": {
      "text/plain": [
       "Text(0.5, 1.0, 'Distribution of Actual and Predicted Values (XGBoost - A0.02wt%)')"
      ]
     },
     "execution_count": 20,
     "metadata": {},
     "output_type": "execute_result"
    },
    {
     "data": {
      "image/png": "[encoded data removed]",
      "text/plain": [
       "<Figure size 432x288 with 1 Axes>"
      ]
     },
     "metadata": {
      "needs_background": "light"
     },
     "output_type": "display_data"
    }
   ],
   "source": [
    "#Distribution plot of XGBoost predicted and actual values\n",
    "ax1 = sns.distplot(y_a_trend, hist=False, color=\"r\", label=\"Actual Value\")\n",
    "sns.distplot(xgb_a.predict(x_a_trend), hist=False, color=\"b\", label=\"Predicted Values\",axlabel='Pressure Distribution', ax=ax1)\n",
    "plt.title('Distribution of Actual and Predicted Values (XGBoost - A0.02wt%)')"
   ]
  },
  {
   "cell_type": "markdown",
   "metadata": {},
   "source": [
    "XGBoost is among very powerful and popular machine learning algorithms, which provides high accuracy for large datasets due to its optimized implementation. This algorithm follows the boosting concept, where weak learners (decision trees) are grown sequentially\n",
    "The model itself is optimized using a gradient descent algorithm; as a result, it provides higher accuracy"
   ]
  },
  {
   "cell_type": "code",
   "execution_count": 21,
   "metadata": {
    "scrolled": true
   },
   "outputs": [
    {
     "data": {
      "text/plain": [
       "0.9228210076365227"
      ]
     },
     "execution_count": 21,
     "metadata": {},
     "output_type": "execute_result"
    }
   ],
   "source": [
    "#Using LinearRegression\n",
    "from sklearn.linear_model import LinearRegression\n",
    "\n",
    "model_lr = LinearRegression()\n",
    "lr_a = model_lr.fit(x_a_trend_test,y_a_trend_test)\n",
    "lr_a.score(x_a_trend_test,y_a_trend_test)"
   ]
  },
  {
   "cell_type": "code",
   "execution_count": 22,
   "metadata": {},
   "outputs": [
    {
     "data": {
      "text/plain": [
       "Text(0.5, 1.0, 'Distribution of Actual and Predicted Values (LinearRegression - A0.02wt%)')"
      ]
     },
     "execution_count": 22,
     "metadata": {},
     "output_type": "execute_result"
    },
    {
     "data": {
      "image/png": "[encoded data removed]",
      "text/plain": [
       "<Figure size 432x288 with 1 Axes>"
      ]
     },
     "metadata": {
      "needs_background": "light"
     },
     "output_type": "display_data"
    }
   ],
   "source": [
    "#Distribution plot of LinearRegression predicted and actual values\n",
    "ax1 = sns.distplot(y_a_trend, hist=False, color=\"r\", label=\"Actual Value\")\n",
    "sns.distplot(lr_a.predict(x_a_trend), hist=False, color=\"b\", label=\"Predicted Values\", axlabel='Pressure Distribution', ax=ax1)\n",
    "plt.title('Distribution of Actual and Predicted Values (LinearRegression - A0.02wt%)')"
   ]
  },
  {
   "cell_type": "code",
   "execution_count": 23,
   "metadata": {},
   "outputs": [
    {
     "data": {
      "text/plain": [
       "array([-0.14419247,  3.81789784])"
      ]
     },
     "execution_count": 23,
     "metadata": {},
     "output_type": "execute_result"
    }
   ],
   "source": [
    "lr_a.coef_"
   ]
  },
  {
   "cell_type": "code",
   "execution_count": 55,
   "metadata": {},
   "outputs": [
    {
     "data": {
      "text/plain": [
       "37.074410210358145"
      ]
     },
     "execution_count": 55,
     "metadata": {},
     "output_type": "execute_result"
    }
   ],
   "source": [
    "lr_a.intercept_"
   ]
  },
  {
   "cell_type": "code",
   "execution_count": 24,
   "metadata": {},
   "outputs": [
    {
     "data": {
      "text/plain": [
       "0.9724635027871399"
      ]
     },
     "execution_count": 24,
     "metadata": {},
     "output_type": "execute_result"
    }
   ],
   "source": [
    "#Using GradientBoostingRegressor\n",
    "from sklearn.ensemble import GradientBoostingRegressor\n",
    "\n",
    "GB = GradientBoostingRegressor()\n",
    "GB_a = GB.fit(x_a_trend_train,y_a_trend_train)\n",
    "GB_a.score(x_a_trend_test,y_a_trend_test)"
   ]
  },
  {
   "cell_type": "code",
   "execution_count": 25,
   "metadata": {},
   "outputs": [
    {
     "data": {
      "text/plain": [
       "Text(0.5, 1.0, 'Distribution of Actual and Predicted Values (GradientBoostingRegressor - A0.02wt%)')"
      ]
     },
     "execution_count": 25,
     "metadata": {},
     "output_type": "execute_result"
    },
    {
     "data": {
      "image/png": "[encoded data removed]",
      "text/plain": [
       "<Figure size 432x288 with 1 Axes>"
      ]
     },
     "metadata": {
      "needs_background": "light"
     },
     "output_type": "display_data"
    }
   ],
   "source": [
    "#Distribution plot of GradientBoostingRegressor predicted and actual values\n",
    "ax1 = sns.distplot(y_a_trend, hist=False, color=\"r\", label=\"Actual Value\")\n",
    "sns.distplot(GB_a.predict(x_a_trend), hist=False, color=\"b\", label=\"Predicted Values\", axlabel='Pressure Distribution', ax=ax1)\n",
    "plt.title('Distribution of Actual and Predicted Values (GradientBoostingRegressor - A0.02wt%)')"
   ]
  },
  {
   "cell_type": "markdown",
   "metadata": {},
   "source": [
    "GradientBoostingRegressor ia a tree based learner and has no coefficients"
   ]
  },
  {
   "cell_type": "markdown",
   "metadata": {},
   "source": [
    "# ANALYSIS FOR DATA  B (0.06wt% of Plant Extract B)"
   ]
  },
  {
   "cell_type": "markdown",
   "metadata": {},
   "source": [
    "Predicting Hydrate formation using an Artificial Neural Network (ANN) with Time, Temperature and Pressure as input variables"
   ]
  },
  {
   "cell_type": "code",
   "execution_count": 26,
   "metadata": {},
   "outputs": [],
   "source": [
    "#Importing data\n",
    "\n",
    "df_b =pd.read_excel('/Users/celestineudim/PYTHON ANACONDA/MLgashydrateformation/DATA SET/A 0.02.xlsx',\n",
    "                      sheet_name='B0.06')"
   ]
  },
  {
   "cell_type": "code",
   "execution_count": 27,
   "metadata": {},
   "outputs": [],
   "source": [
    "x_b = df_b [['Time', 'T1 (°C)','P1 (Psi)']]\n",
    "y_b = df_b ['Hydrate'] \n",
    "\n",
    "#Splitting ttrain and test data set\n",
    "x_b_train, x_b_test, y_b_train , y_b_test = tts(x_b, y_b, test_size=0.3 , random_state =5)"
   ]
  },
  {
   "cell_type": "code",
   "execution_count": 28,
   "metadata": {},
   "outputs": [
    {
     "name": "stdout",
     "output_type": "stream",
     "text": [
      "Epoch 1/60\n",
      "1/1 [==============================] - 0s 210ms/step - loss: 0.5871 - accuracy: 0.7241 - val_loss: 0.4959 - val_accuracy: 0.7692\n",
      "Epoch 2/60\n",
      "1/1 [==============================] - 0s 52ms/step - loss: 0.5685 - accuracy: 0.7241 - val_loss: 0.4811 - val_accuracy: 0.7692\n",
      "Epoch 3/60\n",
      "1/1 [==============================] - 0s 46ms/step - loss: 0.5537 - accuracy: 0.7241 - val_loss: 0.4693 - val_accuracy: 0.7692\n",
      "Epoch 4/60\n",
      "1/1 [==============================] - 0s 36ms/step - loss: 0.5397 - accuracy: 0.7241 - val_loss: 0.4598 - val_accuracy: 0.7692\n",
      "Epoch 5/60\n",
      "1/1 [==============================] - 0s 37ms/step - loss: 0.5261 - accuracy: 0.7586 - val_loss: 0.4515 - val_accuracy: 0.7692\n",
      "Epoch 6/60\n",
      "1/1 [==============================] - 0s 37ms/step - loss: 0.5121 - accuracy: 0.7931 - val_loss: 0.4436 - val_accuracy: 0.7692\n",
      "Epoch 7/60\n",
      "1/1 [==============================] - 0s 43ms/step - loss: 0.4983 - accuracy: 0.7931 - val_loss: 0.4354 - val_accuracy: 0.7692\n",
      "Epoch 8/60\n",
      "1/1 [==============================] - 0s 49ms/step - loss: 0.4850 - accuracy: 0.7931 - val_loss: 0.4267 - val_accuracy: 0.7692\n",
      "Epoch 9/60\n",
      "1/1 [==============================] - 0s 41ms/step - loss: 0.4724 - accuracy: 0.7931 - val_loss: 0.4151 - val_accuracy: 0.7692\n",
      "Epoch 10/60\n",
      "1/1 [==============================] - 0s 38ms/step - loss: 0.4597 - accuracy: 0.7931 - val_loss: 0.4009 - val_accuracy: 0.8462\n",
      "Epoch 11/60\n",
      "1/1 [==============================] - 0s 35ms/step - loss: 0.4475 - accuracy: 0.8276 - val_loss: 0.3843 - val_accuracy: 0.9231\n",
      "Epoch 12/60\n",
      "1/1 [==============================] - 0s 46ms/step - loss: 0.4350 - accuracy: 0.8276 - val_loss: 0.3694 - val_accuracy: 0.9231\n",
      "Epoch 13/60\n",
      "1/1 [==============================] - 0s 51ms/step - loss: 0.4216 - accuracy: 0.8621 - val_loss: 0.3567 - val_accuracy: 0.9231\n",
      "Epoch 14/60\n",
      "1/1 [==============================] - 0s 40ms/step - loss: 0.4082 - accuracy: 0.9310 - val_loss: 0.3465 - val_accuracy: 0.9231\n",
      "Epoch 15/60\n",
      "1/1 [==============================] - 0s 36ms/step - loss: 0.3966 - accuracy: 0.9310 - val_loss: 0.3391 - val_accuracy: 0.9231\n",
      "Epoch 16/60\n",
      "1/1 [==============================] - 0s 48ms/step - loss: 0.3874 - accuracy: 0.9310 - val_loss: 0.3345 - val_accuracy: 0.9231\n",
      "Epoch 17/60\n",
      "1/1 [==============================] - 0s 40ms/step - loss: 0.3809 - accuracy: 0.9310 - val_loss: 0.3317 - val_accuracy: 0.9231\n",
      "Epoch 18/60\n",
      "1/1 [==============================] - 0s 40ms/step - loss: 0.3765 - accuracy: 0.9310 - val_loss: 0.3298 - val_accuracy: 0.9231\n",
      "Epoch 19/60\n",
      "1/1 [==============================] - 0s 58ms/step - loss: 0.3735 - accuracy: 0.9310 - val_loss: 0.3281 - val_accuracy: 0.9231\n",
      "Epoch 20/60\n",
      "1/1 [==============================] - 0s 43ms/step - loss: 0.3710 - accuracy: 0.9310 - val_loss: 0.3264 - val_accuracy: 0.9231\n",
      "Epoch 21/60\n",
      "1/1 [==============================] - 0s 39ms/step - loss: 0.3689 - accuracy: 0.9310 - val_loss: 0.3248 - val_accuracy: 0.9231\n",
      "Epoch 22/60\n",
      "1/1 [==============================] - 0s 33ms/step - loss: 0.3669 - accuracy: 0.9310 - val_loss: 0.3233 - val_accuracy: 0.9231\n",
      "Epoch 23/60\n",
      "1/1 [==============================] - 0s 48ms/step - loss: 0.3649 - accuracy: 0.9310 - val_loss: 0.3217 - val_accuracy: 0.9231\n",
      "Epoch 24/60\n",
      "1/1 [==============================] - 0s 58ms/step - loss: 0.3631 - accuracy: 0.9310 - val_loss: 0.3208 - val_accuracy: 0.9231\n",
      "Epoch 25/60\n",
      "1/1 [==============================] - 0s 37ms/step - loss: 0.3619 - accuracy: 0.9310 - val_loss: 0.3199 - val_accuracy: 0.9231\n",
      "Epoch 26/60\n",
      "1/1 [==============================] - 0s 36ms/step - loss: 0.3607 - accuracy: 0.9310 - val_loss: 0.3187 - val_accuracy: 0.9231\n",
      "Epoch 27/60\n",
      "1/1 [==============================] - 0s 46ms/step - loss: 0.3593 - accuracy: 0.9310 - val_loss: 0.3177 - val_accuracy: 0.9231\n",
      "Epoch 28/60\n",
      "1/1 [==============================] - 0s 63ms/step - loss: 0.3580 - accuracy: 0.9310 - val_loss: 0.3167 - val_accuracy: 0.9231\n",
      "Epoch 29/60\n",
      "1/1 [==============================] - 0s 37ms/step - loss: 0.3569 - accuracy: 0.9310 - val_loss: 0.3159 - val_accuracy: 0.9231\n",
      "Epoch 30/60\n",
      "1/1 [==============================] - 0s 35ms/step - loss: 0.3558 - accuracy: 0.9310 - val_loss: 0.3150 - val_accuracy: 0.9231\n",
      "Epoch 31/60\n",
      "1/1 [==============================] - 0s 35ms/step - loss: 0.3548 - accuracy: 0.9310 - val_loss: 0.3142 - val_accuracy: 0.9231\n",
      "Epoch 32/60\n",
      "1/1 [==============================] - 0s 34ms/step - loss: 0.3538 - accuracy: 0.9310 - val_loss: 0.3135 - val_accuracy: 0.9231\n",
      "Epoch 33/60\n",
      "1/1 [==============================] - 0s 38ms/step - loss: 0.3528 - accuracy: 0.9310 - val_loss: 0.3128 - val_accuracy: 0.9231\n",
      "Epoch 34/60\n",
      "1/1 [==============================] - 0s 36ms/step - loss: 0.3519 - accuracy: 0.9310 - val_loss: 0.3122 - val_accuracy: 0.9231\n",
      "Epoch 35/60\n",
      "1/1 [==============================] - 0s 37ms/step - loss: 0.3512 - accuracy: 0.9310 - val_loss: 0.3118 - val_accuracy: 0.9231\n",
      "Epoch 36/60\n",
      "1/1 [==============================] - 0s 46ms/step - loss: 0.3505 - accuracy: 0.9310 - val_loss: 0.3114 - val_accuracy: 0.9231\n",
      "Epoch 37/60\n",
      "1/1 [==============================] - 0s 34ms/step - loss: 0.3500 - accuracy: 0.9310 - val_loss: 0.3111 - val_accuracy: 0.9231\n",
      "Epoch 38/60\n",
      "1/1 [==============================] - 0s 43ms/step - loss: 0.3496 - accuracy: 0.9310 - val_loss: 0.3108 - val_accuracy: 0.9231\n",
      "Epoch 39/60\n",
      "1/1 [==============================] - 0s 34ms/step - loss: 0.3492 - accuracy: 0.9310 - val_loss: 0.3106 - val_accuracy: 0.9231\n",
      "Epoch 40/60\n",
      "1/1 [==============================] - 0s 36ms/step - loss: 0.3489 - accuracy: 0.9310 - val_loss: 0.3104 - val_accuracy: 0.9231\n",
      "Epoch 41/60\n",
      "1/1 [==============================] - 0s 36ms/step - loss: 0.3486 - accuracy: 0.9310 - val_loss: 0.3103 - val_accuracy: 0.9231\n",
      "Epoch 42/60\n",
      "1/1 [==============================] - 0s 35ms/step - loss: 0.3484 - accuracy: 0.9310 - val_loss: 0.3102 - val_accuracy: 0.9231\n",
      "Epoch 43/60\n",
      "1/1 [==============================] - 0s 34ms/step - loss: 0.3482 - accuracy: 0.9310 - val_loss: 0.3100 - val_accuracy: 0.9231\n",
      "Epoch 44/60\n",
      "1/1 [==============================] - 0s 33ms/step - loss: 0.3481 - accuracy: 0.9310 - val_loss: 0.3099 - val_accuracy: 0.9231\n",
      "Epoch 45/60\n",
      "1/1 [==============================] - 0s 33ms/step - loss: 0.3479 - accuracy: 0.9310 - val_loss: 0.3098 - val_accuracy: 0.9231\n",
      "Epoch 46/60\n",
      "1/1 [==============================] - 0s 34ms/step - loss: 0.3478 - accuracy: 0.9310 - val_loss: 0.3098 - val_accuracy: 0.9231\n",
      "Epoch 47/60\n",
      "1/1 [==============================] - 0s 34ms/step - loss: 0.3477 - accuracy: 0.9310 - val_loss: 0.3097 - val_accuracy: 0.9231\n",
      "Epoch 48/60\n",
      "1/1 [==============================] - 0s 44ms/step - loss: 0.3476 - accuracy: 0.9310 - val_loss: 0.3096 - val_accuracy: 0.9231\n",
      "Epoch 49/60\n",
      "1/1 [==============================] - 0s 36ms/step - loss: 0.3475 - accuracy: 0.9310 - val_loss: 0.3096 - val_accuracy: 0.9231\n",
      "Epoch 50/60\n",
      "1/1 [==============================] - 0s 35ms/step - loss: 0.3474 - accuracy: 0.9310 - val_loss: 0.3095 - val_accuracy: 0.9231\n",
      "Epoch 51/60\n",
      "1/1 [==============================] - 0s 34ms/step - loss: 0.3474 - accuracy: 0.9310 - val_loss: 0.3095 - val_accuracy: 0.9231\n",
      "Epoch 52/60\n",
      "1/1 [==============================] - 0s 34ms/step - loss: 0.3473 - accuracy: 0.9310 - val_loss: 0.3094 - val_accuracy: 0.9231\n",
      "Epoch 53/60\n",
      "1/1 [==============================] - 0s 33ms/step - loss: 0.3472 - accuracy: 0.9310 - val_loss: 0.3094 - val_accuracy: 0.9231\n",
      "Epoch 54/60\n",
      "1/1 [==============================] - 0s 47ms/step - loss: 0.3472 - accuracy: 0.9310 - val_loss: 0.3093 - val_accuracy: 0.9231\n",
      "Epoch 55/60\n",
      "1/1 [==============================] - 0s 43ms/step - loss: 0.3471 - accuracy: 0.9310 - val_loss: 0.3093 - val_accuracy: 0.9231\n",
      "Epoch 56/60\n",
      "1/1 [==============================] - 0s 41ms/step - loss: 0.3471 - accuracy: 0.9310 - val_loss: 0.3093 - val_accuracy: 0.9231\n",
      "Epoch 57/60\n",
      "1/1 [==============================] - 0s 71ms/step - loss: 0.3470 - accuracy: 0.9310 - val_loss: 0.3092 - val_accuracy: 0.9231\n",
      "Epoch 58/60\n",
      "1/1 [==============================] - 0s 82ms/step - loss: 0.3470 - accuracy: 0.9310 - val_loss: 0.3092 - val_accuracy: 0.9231\n",
      "Epoch 59/60\n",
      "1/1 [==============================] - 0s 36ms/step - loss: 0.3469 - accuracy: 0.9310 - val_loss: 0.3092 - val_accuracy: 0.9231\n",
      "Epoch 60/60\n",
      "1/1 [==============================] - 0s 51ms/step - loss: 0.3468 - accuracy: 0.9310 - val_loss: 0.3091 - val_accuracy: 0.9231\n"
     ]
    },
    {
     "data": {
      "text/plain": [
       "<tensorflow.python.keras.callbacks.History at 0x1520f5d90>"
      ]
     },
     "execution_count": 28,
     "metadata": {},
     "output_type": "execute_result"
    }
   ],
   "source": [
    "#This step is carried out for the purpose of redult reproducibility\n",
    "seed_value = 26\n",
    "#Note to self 26 = .94%\n",
    "\n",
    "# Set Python random seed using environment variable\n",
    "import os\n",
    "os.environ['PYTHONHASHSEED']=str(seed_value)\n",
    "\n",
    "# Set Numpy random seed\n",
    "import random\n",
    "np.random.seed(seed_value)\n",
    "\n",
    "# Set TensorFlow random seed\n",
    "import tensorflow as tf\n",
    "tf.random.set_seed(seed_value) \n",
    "\n",
    "#Importing relevant libraries from tensorflow\n",
    "\n",
    "\n",
    "from tensorflow.keras.models import Sequential\n",
    "from tensorflow.keras.layers import Dense\n",
    "\n",
    "#This ANN has 4 hidden laters \n",
    "tf.keras.backend.set_floatx('float64')\n",
    "\n",
    "\n",
    "ann_b_hyd = Sequential()\n",
    "\n",
    "ann_b_hyd.add(Dense(units=3,   activation ='relu'))\n",
    "ann_b_hyd.add(Dense(units=10,  activation ='relu'))\n",
    "ann_b_hyd.add(Dense(units=15,  activation ='relu'))\n",
    "ann_b_hyd.add(Dense(units=15,  activation ='relu'))\n",
    "ann_b_hyd.add(Dense(units=10,  activation ='relu'))\n",
    "ann_b_hyd.add(Dense(units=1,   activation ='sigmoid'))\n",
    "\n",
    "#adam , SGD\n",
    "#binary_crossentropy, hinge\n",
    "\n",
    "ann_b_hyd.compile(optimizer= \"adam\",\n",
    "                 loss = 'hinge',\n",
    "                 metrics = ['accuracy'])\n",
    "\n",
    "ann_b_hyd.fit (x_b_train, y_b_train, epochs = 60, batch_size = 40, validation_split=0.30)\n",
    "\n"
   ]
  },
  {
   "cell_type": "code",
   "execution_count": 29,
   "metadata": {},
   "outputs": [
    {
     "data": {
      "text/plain": [
       "<matplotlib.legend.Legend at 0x152125f10>"
      ]
     },
     "execution_count": 29,
     "metadata": {},
     "output_type": "execute_result"
    },
    {
     "data": {
      "image/png": "[encoded data removed]",
      "text/plain": [
       "<Figure size 504x360 with 1 Axes>"
      ]
     },
     "metadata": {
      "needs_background": "light"
     },
     "output_type": "display_data"
    }
   ],
   "source": [
    "import matplotlib.pyplot as plt\n",
    "plt.subplots(figsize=(7,5))\n",
    "\n",
    "figure1:plt.plot(ann_b_hyd.history.history['accuracy'])\n",
    "figure2:plt.plot(ann_b_hyd.history.history['val_accuracy'])\n",
    "figure3:plt.plot(ann_b_hyd.history.history['loss'])\n",
    "figure4:plt.plot(ann_b_hyd.history.history['val_loss'])\n",
    "\n",
    "\n",
    "\n",
    "plt.legend(['Training accuracy', 'val_accuracy', 'Training loss', 'val_loss'])"
   ]
  },
  {
   "cell_type": "code",
   "execution_count": 30,
   "metadata": {},
   "outputs": [
    {
     "name": "stdout",
     "output_type": "stream",
     "text": [
      "1/1 [==============================] - 0s 1ms/step - loss: 0.2128 - accuracy: 1.0000\n"
     ]
    },
    {
     "data": {
      "text/plain": [
       "[0.21280236542224884, 1.0]"
      ]
     },
     "execution_count": 30,
     "metadata": {},
     "output_type": "execute_result"
    }
   ],
   "source": [
    "ann_b_hyd.evaluate ( x_b_test, y_b_test)\n",
    "#0.93"
   ]
  },
  {
   "cell_type": "code",
   "execution_count": 31,
   "metadata": {},
   "outputs": [
    {
     "data": {
      "text/plain": [
       "Text(0.5, 1.0, 'Distribution of Actual and Predicted Values (ANN - B0.02wt%)')"
      ]
     },
     "execution_count": 31,
     "metadata": {},
     "output_type": "execute_result"
    },
    {
     "data": {
      "image/png": "[encoded data removed]",
      "text/plain": [
       "<Figure size 432x288 with 1 Axes>"
      ]
     },
     "metadata": {
      "needs_background": "light"
     },
     "output_type": "display_data"
    }
   ],
   "source": [
    "#Visualising model accuracy on data frame\n",
    "\n",
    "prediction_b = ann_b_hyd.predict(x_b)\n",
    "flatten_b_prediction = prediction_b.flatten()\n",
    "round_up_prediction_b = flatten_b_prediction.round()\n",
    "\n",
    "Predictions_df_b = pd.DataFrame()\n",
    "Predictions_df_b['Predicted Value'] = round_up_prediction_b\n",
    "Predictions_df_b['Actual Values'] = y_b\n",
    "\n",
    "#Distribution plot of predicted and actual values\n",
    "ax1 = sns.distplot(y_b, hist=False, color=\"r\", label=\"Actual Value\")\n",
    "sns.distplot(round_up_prediction_b, hist=False, color=\"b\", label=\"Predicted Values\" , ax=ax1)\n",
    "plt.title('Distribution of Actual and Predicted Values (ANN - B0.02wt%)')"
   ]
  },
  {
   "cell_type": "code",
   "execution_count": 32,
   "metadata": {},
   "outputs": [
    {
     "data": {
      "text/html": [
       "<div>\n",
       "<style scoped>\n",
       "    .dataframe tbody tr th:only-of-type {\n",
       "        vertical-align: middle;\n",
       "    }\n",
       "\n",
       "    .dataframe tbody tr th {\n",
       "        vertical-align: top;\n",
       "    }\n",
       "\n",
       "    .dataframe thead th {\n",
       "        text-align: right;\n",
       "    }\n",
       "</style>\n",
       "<table border=\"1\" class=\"dataframe\">\n",
       "  <thead>\n",
       "    <tr style=\"text-align: right;\">\n",
       "      <th></th>\n",
       "      <th>Predicted Value</th>\n",
       "      <th>Actual Values</th>\n",
       "    </tr>\n",
       "  </thead>\n",
       "  <tbody>\n",
       "    <tr>\n",
       "      <td>0</td>\n",
       "      <td>0.0</td>\n",
       "      <td>0</td>\n",
       "    </tr>\n",
       "    <tr>\n",
       "      <td>1</td>\n",
       "      <td>0.0</td>\n",
       "      <td>0</td>\n",
       "    </tr>\n",
       "    <tr>\n",
       "      <td>2</td>\n",
       "      <td>0.0</td>\n",
       "      <td>0</td>\n",
       "    </tr>\n",
       "    <tr>\n",
       "      <td>3</td>\n",
       "      <td>0.0</td>\n",
       "      <td>0</td>\n",
       "    </tr>\n",
       "    <tr>\n",
       "      <td>4</td>\n",
       "      <td>0.0</td>\n",
       "      <td>0</td>\n",
       "    </tr>\n",
       "    <tr>\n",
       "      <td>5</td>\n",
       "      <td>0.0</td>\n",
       "      <td>0</td>\n",
       "    </tr>\n",
       "    <tr>\n",
       "      <td>6</td>\n",
       "      <td>0.0</td>\n",
       "      <td>0</td>\n",
       "    </tr>\n",
       "    <tr>\n",
       "      <td>7</td>\n",
       "      <td>0.0</td>\n",
       "      <td>0</td>\n",
       "    </tr>\n",
       "    <tr>\n",
       "      <td>8</td>\n",
       "      <td>0.0</td>\n",
       "      <td>0</td>\n",
       "    </tr>\n",
       "    <tr>\n",
       "      <td>9</td>\n",
       "      <td>0.0</td>\n",
       "      <td>0</td>\n",
       "    </tr>\n",
       "    <tr>\n",
       "      <td>10</td>\n",
       "      <td>0.0</td>\n",
       "      <td>0</td>\n",
       "    </tr>\n",
       "    <tr>\n",
       "      <td>11</td>\n",
       "      <td>0.0</td>\n",
       "      <td>0</td>\n",
       "    </tr>\n",
       "    <tr>\n",
       "      <td>12</td>\n",
       "      <td>1.0</td>\n",
       "      <td>0</td>\n",
       "    </tr>\n",
       "    <tr>\n",
       "      <td>13</td>\n",
       "      <td>1.0</td>\n",
       "      <td>0</td>\n",
       "    </tr>\n",
       "    <tr>\n",
       "      <td>14</td>\n",
       "      <td>1.0</td>\n",
       "      <td>0</td>\n",
       "    </tr>\n",
       "    <tr>\n",
       "      <td>15</td>\n",
       "      <td>1.0</td>\n",
       "      <td>1</td>\n",
       "    </tr>\n",
       "    <tr>\n",
       "      <td>16</td>\n",
       "      <td>1.0</td>\n",
       "      <td>1</td>\n",
       "    </tr>\n",
       "    <tr>\n",
       "      <td>17</td>\n",
       "      <td>1.0</td>\n",
       "      <td>1</td>\n",
       "    </tr>\n",
       "    <tr>\n",
       "      <td>18</td>\n",
       "      <td>1.0</td>\n",
       "      <td>1</td>\n",
       "    </tr>\n",
       "    <tr>\n",
       "      <td>19</td>\n",
       "      <td>1.0</td>\n",
       "      <td>1</td>\n",
       "    </tr>\n",
       "    <tr>\n",
       "      <td>20</td>\n",
       "      <td>1.0</td>\n",
       "      <td>1</td>\n",
       "    </tr>\n",
       "    <tr>\n",
       "      <td>21</td>\n",
       "      <td>1.0</td>\n",
       "      <td>1</td>\n",
       "    </tr>\n",
       "    <tr>\n",
       "      <td>22</td>\n",
       "      <td>1.0</td>\n",
       "      <td>1</td>\n",
       "    </tr>\n",
       "    <tr>\n",
       "      <td>23</td>\n",
       "      <td>1.0</td>\n",
       "      <td>1</td>\n",
       "    </tr>\n",
       "    <tr>\n",
       "      <td>24</td>\n",
       "      <td>1.0</td>\n",
       "      <td>1</td>\n",
       "    </tr>\n",
       "    <tr>\n",
       "      <td>25</td>\n",
       "      <td>1.0</td>\n",
       "      <td>1</td>\n",
       "    </tr>\n",
       "    <tr>\n",
       "      <td>26</td>\n",
       "      <td>1.0</td>\n",
       "      <td>1</td>\n",
       "    </tr>\n",
       "    <tr>\n",
       "      <td>27</td>\n",
       "      <td>1.0</td>\n",
       "      <td>1</td>\n",
       "    </tr>\n",
       "    <tr>\n",
       "      <td>28</td>\n",
       "      <td>1.0</td>\n",
       "      <td>1</td>\n",
       "    </tr>\n",
       "    <tr>\n",
       "      <td>29</td>\n",
       "      <td>1.0</td>\n",
       "      <td>1</td>\n",
       "    </tr>\n",
       "    <tr>\n",
       "      <td>30</td>\n",
       "      <td>1.0</td>\n",
       "      <td>1</td>\n",
       "    </tr>\n",
       "    <tr>\n",
       "      <td>31</td>\n",
       "      <td>1.0</td>\n",
       "      <td>1</td>\n",
       "    </tr>\n",
       "    <tr>\n",
       "      <td>32</td>\n",
       "      <td>1.0</td>\n",
       "      <td>1</td>\n",
       "    </tr>\n",
       "    <tr>\n",
       "      <td>33</td>\n",
       "      <td>1.0</td>\n",
       "      <td>1</td>\n",
       "    </tr>\n",
       "    <tr>\n",
       "      <td>34</td>\n",
       "      <td>1.0</td>\n",
       "      <td>1</td>\n",
       "    </tr>\n",
       "    <tr>\n",
       "      <td>35</td>\n",
       "      <td>1.0</td>\n",
       "      <td>1</td>\n",
       "    </tr>\n",
       "    <tr>\n",
       "      <td>36</td>\n",
       "      <td>1.0</td>\n",
       "      <td>1</td>\n",
       "    </tr>\n",
       "    <tr>\n",
       "      <td>37</td>\n",
       "      <td>1.0</td>\n",
       "      <td>1</td>\n",
       "    </tr>\n",
       "    <tr>\n",
       "      <td>38</td>\n",
       "      <td>1.0</td>\n",
       "      <td>1</td>\n",
       "    </tr>\n",
       "    <tr>\n",
       "      <td>39</td>\n",
       "      <td>1.0</td>\n",
       "      <td>1</td>\n",
       "    </tr>\n",
       "    <tr>\n",
       "      <td>40</td>\n",
       "      <td>1.0</td>\n",
       "      <td>1</td>\n",
       "    </tr>\n",
       "    <tr>\n",
       "      <td>41</td>\n",
       "      <td>1.0</td>\n",
       "      <td>1</td>\n",
       "    </tr>\n",
       "    <tr>\n",
       "      <td>42</td>\n",
       "      <td>1.0</td>\n",
       "      <td>1</td>\n",
       "    </tr>\n",
       "    <tr>\n",
       "      <td>43</td>\n",
       "      <td>1.0</td>\n",
       "      <td>1</td>\n",
       "    </tr>\n",
       "    <tr>\n",
       "      <td>44</td>\n",
       "      <td>1.0</td>\n",
       "      <td>1</td>\n",
       "    </tr>\n",
       "    <tr>\n",
       "      <td>45</td>\n",
       "      <td>1.0</td>\n",
       "      <td>1</td>\n",
       "    </tr>\n",
       "    <tr>\n",
       "      <td>46</td>\n",
       "      <td>1.0</td>\n",
       "      <td>1</td>\n",
       "    </tr>\n",
       "    <tr>\n",
       "      <td>47</td>\n",
       "      <td>1.0</td>\n",
       "      <td>1</td>\n",
       "    </tr>\n",
       "    <tr>\n",
       "      <td>48</td>\n",
       "      <td>1.0</td>\n",
       "      <td>1</td>\n",
       "    </tr>\n",
       "    <tr>\n",
       "      <td>49</td>\n",
       "      <td>1.0</td>\n",
       "      <td>1</td>\n",
       "    </tr>\n",
       "    <tr>\n",
       "      <td>50</td>\n",
       "      <td>1.0</td>\n",
       "      <td>1</td>\n",
       "    </tr>\n",
       "    <tr>\n",
       "      <td>51</td>\n",
       "      <td>1.0</td>\n",
       "      <td>1</td>\n",
       "    </tr>\n",
       "    <tr>\n",
       "      <td>52</td>\n",
       "      <td>1.0</td>\n",
       "      <td>1</td>\n",
       "    </tr>\n",
       "    <tr>\n",
       "      <td>53</td>\n",
       "      <td>1.0</td>\n",
       "      <td>1</td>\n",
       "    </tr>\n",
       "    <tr>\n",
       "      <td>54</td>\n",
       "      <td>1.0</td>\n",
       "      <td>1</td>\n",
       "    </tr>\n",
       "    <tr>\n",
       "      <td>55</td>\n",
       "      <td>1.0</td>\n",
       "      <td>1</td>\n",
       "    </tr>\n",
       "    <tr>\n",
       "      <td>56</td>\n",
       "      <td>1.0</td>\n",
       "      <td>1</td>\n",
       "    </tr>\n",
       "    <tr>\n",
       "      <td>57</td>\n",
       "      <td>1.0</td>\n",
       "      <td>1</td>\n",
       "    </tr>\n",
       "    <tr>\n",
       "      <td>58</td>\n",
       "      <td>1.0</td>\n",
       "      <td>1</td>\n",
       "    </tr>\n",
       "    <tr>\n",
       "      <td>59</td>\n",
       "      <td>1.0</td>\n",
       "      <td>1</td>\n",
       "    </tr>\n",
       "    <tr>\n",
       "      <td>60</td>\n",
       "      <td>1.0</td>\n",
       "      <td>1</td>\n",
       "    </tr>\n",
       "  </tbody>\n",
       "</table>\n",
       "</div>"
      ],
      "text/plain": [
       "    Predicted Value  Actual Values\n",
       "0               0.0              0\n",
       "1               0.0              0\n",
       "2               0.0              0\n",
       "3               0.0              0\n",
       "4               0.0              0\n",
       "5               0.0              0\n",
       "6               0.0              0\n",
       "7               0.0              0\n",
       "8               0.0              0\n",
       "9               0.0              0\n",
       "10              0.0              0\n",
       "11              0.0              0\n",
       "12              1.0              0\n",
       "13              1.0              0\n",
       "14              1.0              0\n",
       "15              1.0              1\n",
       "16              1.0              1\n",
       "17              1.0              1\n",
       "18              1.0              1\n",
       "19              1.0              1\n",
       "20              1.0              1\n",
       "21              1.0              1\n",
       "22              1.0              1\n",
       "23              1.0              1\n",
       "24              1.0              1\n",
       "25              1.0              1\n",
       "26              1.0              1\n",
       "27              1.0              1\n",
       "28              1.0              1\n",
       "29              1.0              1\n",
       "30              1.0              1\n",
       "31              1.0              1\n",
       "32              1.0              1\n",
       "33              1.0              1\n",
       "34              1.0              1\n",
       "35              1.0              1\n",
       "36              1.0              1\n",
       "37              1.0              1\n",
       "38              1.0              1\n",
       "39              1.0              1\n",
       "40              1.0              1\n",
       "41              1.0              1\n",
       "42              1.0              1\n",
       "43              1.0              1\n",
       "44              1.0              1\n",
       "45              1.0              1\n",
       "46              1.0              1\n",
       "47              1.0              1\n",
       "48              1.0              1\n",
       "49              1.0              1\n",
       "50              1.0              1\n",
       "51              1.0              1\n",
       "52              1.0              1\n",
       "53              1.0              1\n",
       "54              1.0              1\n",
       "55              1.0              1\n",
       "56              1.0              1\n",
       "57              1.0              1\n",
       "58              1.0              1\n",
       "59              1.0              1\n",
       "60              1.0              1"
      ]
     },
     "execution_count": 32,
     "metadata": {},
     "output_type": "execute_result"
    }
   ],
   "source": [
    "Predictions_df_b"
   ]
  },
  {
   "cell_type": "code",
   "execution_count": null,
   "metadata": {},
   "outputs": [],
   "source": []
  },
  {
   "cell_type": "markdown",
   "metadata": {},
   "source": [
    "Using Supervised Learning to predict Pressure behaviour / trend values with Temperature T1 (°C) and Time as inputs"
   ]
  },
  {
   "cell_type": "code",
   "execution_count": 33,
   "metadata": {},
   "outputs": [],
   "source": [
    "x_b_trend = df_b [['Time', 'T1 (°C)']]\n",
    "y_b_trend = df_b ['P1 (Psi)'] \n",
    "\n",
    "x_b_trend_train,x_b_trend_test,y_b_trend_train,y_b_trend_test=tts(x_b_trend,y_b_trend, \n",
    "                                                                  test_size =0.3,random_state=415)"
   ]
  },
  {
   "cell_type": "code",
   "execution_count": 34,
   "metadata": {
    "scrolled": true
   },
   "outputs": [
    {
     "name": "stdout",
     "output_type": "stream",
     "text": [
      "[23:44:12] WARNING: src/objective/regression_obj.cu:152: reg:linear is now deprecated in favor of reg:squarederror.\n"
     ]
    },
    {
     "name": "stderr",
     "output_type": "stream",
     "text": [
      "/opt/anaconda3/lib/python3.7/site-packages/xgboost/core.py:587: FutureWarning: Series.base is deprecated and will be removed in a future version\n",
      "  if getattr(data, 'base', None) is not None and \\\n"
     ]
    },
    {
     "data": {
      "text/plain": [
       "0.9704808150762598"
      ]
     },
     "execution_count": 34,
     "metadata": {},
     "output_type": "execute_result"
    }
   ],
   "source": [
    "#Using XGBoost Regressor\n",
    "import xgboost as xgb\n",
    "\n",
    "model_xgb = xgb.XGBRegressor()\n",
    "xgb_b = model_xgb.fit(x_b_trend_train,y_b_trend_train)\n",
    "xgb_b.score(x_b_trend_test,y_b_trend_test)"
   ]
  },
  {
   "cell_type": "code",
   "execution_count": 35,
   "metadata": {},
   "outputs": [
    {
     "data": {
      "text/plain": [
       "Text(0.5, 1.0, 'Distribution of Actual and Predicted Values (XGBoost - B0.06wt%)')"
      ]
     },
     "execution_count": 35,
     "metadata": {},
     "output_type": "execute_result"
    },
    {
     "data": {
      "image/png": "[encoded data removed]",
      "text/plain": [
       "<Figure size 432x288 with 1 Axes>"
      ]
     },
     "metadata": {
      "needs_background": "light"
     },
     "output_type": "display_data"
    }
   ],
   "source": [
    "#Distribution plot of XGBoost predicted and actual values\n",
    "ax1 = sns.distplot(y_b_trend, hist=False, color=\"r\", label=\"Actual Value\")\n",
    "sns.distplot(xgb_b.predict(x_b_trend), hist=False, color=\"b\", label=\"Predicted Values\" , ax=ax1)\n",
    "plt.title('Distribution of Actual and Predicted Values (XGBoost - B0.06wt%)')"
   ]
  },
  {
   "cell_type": "code",
   "execution_count": 36,
   "metadata": {
    "scrolled": true
   },
   "outputs": [
    {
     "data": {
      "text/plain": [
       "0.9958879983614152"
      ]
     },
     "execution_count": 36,
     "metadata": {},
     "output_type": "execute_result"
    }
   ],
   "source": [
    "#Using LinearRegression\n",
    "from sklearn.linear_model import LinearRegression\n",
    "\n",
    "model_lr = LinearRegression()\n",
    "lr_b = model_lr.fit(x_b_trend_test,y_b_trend_test)\n",
    "lr_b.score(x_b_trend_test,y_b_trend_test)"
   ]
  },
  {
   "cell_type": "code",
   "execution_count": 37,
   "metadata": {},
   "outputs": [
    {
     "data": {
      "text/plain": [
       "Text(0.5, 1.0, 'Distribution of Actual and Predicted Values (LinearRegression - B0.06wt%)')"
      ]
     },
     "execution_count": 37,
     "metadata": {},
     "output_type": "execute_result"
    },
    {
     "data": {
      "image/png": "[encoded data removed]",
      "text/plain": [
       "<Figure size 432x288 with 1 Axes>"
      ]
     },
     "metadata": {
      "needs_background": "light"
     },
     "output_type": "display_data"
    }
   ],
   "source": [
    "#Distribution plot of LinearRegression predicted and actual values\n",
    "ax1 = sns.distplot(y_b_trend, hist=False, color=\"r\", label=\"Actual Value\")\n",
    "sns.distplot(lr_b.predict(x_b_trend), hist=False, color=\"b\", label=\"Predicted Values\", axlabel='Pressure Distribution', ax=ax1)\n",
    "plt.title('Distribution of Actual and Predicted Values (LinearRegression - B0.06wt%)')"
   ]
  },
  {
   "cell_type": "code",
   "execution_count": 38,
   "metadata": {},
   "outputs": [
    {
     "data": {
      "text/plain": [
       "array([0.215345  , 5.08101241])"
      ]
     },
     "execution_count": 38,
     "metadata": {},
     "output_type": "execute_result"
    }
   ],
   "source": [
    "lr_b.coef_"
   ]
  },
  {
   "cell_type": "code",
   "execution_count": 56,
   "metadata": {},
   "outputs": [
    {
     "data": {
      "text/plain": [
       "-5.629385325967732"
      ]
     },
     "execution_count": 56,
     "metadata": {},
     "output_type": "execute_result"
    }
   ],
   "source": [
    "lr_b.intercept_"
   ]
  },
  {
   "cell_type": "code",
   "execution_count": 39,
   "metadata": {},
   "outputs": [
    {
     "data": {
      "text/plain": [
       "0.982629750338274"
      ]
     },
     "execution_count": 39,
     "metadata": {},
     "output_type": "execute_result"
    }
   ],
   "source": [
    "#Using GradientBoostingRegressor\n",
    "from sklearn.ensemble import GradientBoostingRegressor\n",
    "\n",
    "GB = GradientBoostingRegressor()\n",
    "GB_b = GB.fit(x_b_trend_train,y_b_trend_train)\n",
    "GB_b.score(x_b_trend_test,y_b_trend_test)"
   ]
  },
  {
   "cell_type": "code",
   "execution_count": 40,
   "metadata": {},
   "outputs": [
    {
     "data": {
      "text/plain": [
       "Text(0.5, 1.0, 'Distribution of Actual and Predicted Values (GradientBoostingRegressor - B0.06wt%)')"
      ]
     },
     "execution_count": 40,
     "metadata": {},
     "output_type": "execute_result"
    },
    {
     "data": {
      "image/png": "[encoded data removed]",
      "text/plain": [
       "<Figure size 432x288 with 1 Axes>"
      ]
     },
     "metadata": {
      "needs_background": "light"
     },
     "output_type": "display_data"
    }
   ],
   "source": [
    "#Distribution plot of GradientBoostingRegressor predicted and actual values\n",
    "ax1 = sns.distplot(y_b_trend, hist=False, color=\"r\", label=\"Actual Value\")\n",
    "sns.distplot(GB_b.predict(x_b_trend), hist=False, color=\"b\", label=\"Predicted Values\", axlabel='Pressure Distribution', ax=ax1)\n",
    "plt.title('Distribution of Actual and Predicted Values (GradientBoostingRegressor - B0.06wt%)')"
   ]
  },
  {
   "cell_type": "markdown",
   "metadata": {},
   "source": [
    "# ANALYSIS FOR DATA  C (0.1wt% of Plant Extract C)"
   ]
  },
  {
   "cell_type": "code",
   "execution_count": 41,
   "metadata": {},
   "outputs": [],
   "source": [
    "df_c =pd.read_excel('/Users/celestineudim/PYTHON ANACONDA/MLgashydrateformation/DATA SET/A 0.02.xlsx',\n",
    "                    sheet_name='C0.1')"
   ]
  },
  {
   "cell_type": "code",
   "execution_count": 42,
   "metadata": {},
   "outputs": [],
   "source": [
    "x_c = df_c [['Time', 'T1 (°C)','P1 (Psi)']]\n",
    "y_c = df_c ['Hydrate '] \n",
    "\n",
    "x_c_test, x_c_train, y_c_test, y_c_train = tts (x_c, y_c,test_size=0.3, random_state = 30)"
   ]
  },
  {
   "cell_type": "markdown",
   "metadata": {},
   "source": [
    "Most of the libraries loaded below had been loaded earlier, reloading them are not necessary"
   ]
  },
  {
   "cell_type": "code",
   "execution_count": 43,
   "metadata": {},
   "outputs": [
    {
     "name": "stdout",
     "output_type": "stream",
     "text": [
      "Epoch 1/80\n",
      "1/1 [==============================] - 0s 161ms/step - loss: 3.0688 - accuracy: 0.3077 - val_loss: 2.8090 - val_accuracy: 0.3333\n",
      "Epoch 2/80\n",
      "1/1 [==============================] - 0s 35ms/step - loss: 2.8214 - accuracy: 0.3077 - val_loss: 2.5681 - val_accuracy: 0.3333\n",
      "Epoch 3/80\n",
      "1/1 [==============================] - 0s 38ms/step - loss: 2.5846 - accuracy: 0.3077 - val_loss: 2.3374 - val_accuracy: 0.3333\n",
      "Epoch 4/80\n",
      "1/1 [==============================] - 0s 33ms/step - loss: 2.3557 - accuracy: 0.3077 - val_loss: 2.1115 - val_accuracy: 0.3333\n",
      "Epoch 5/80\n",
      "1/1 [==============================] - 0s 35ms/step - loss: 2.1363 - accuracy: 0.3077 - val_loss: 1.8950 - val_accuracy: 0.3333\n",
      "Epoch 6/80\n",
      "1/1 [==============================] - 0s 34ms/step - loss: 1.9276 - accuracy: 0.3077 - val_loss: 1.6916 - val_accuracy: 0.3333\n",
      "Epoch 7/80\n",
      "1/1 [==============================] - 0s 52ms/step - loss: 1.7300 - accuracy: 0.3077 - val_loss: 1.4997 - val_accuracy: 0.3333\n",
      "Epoch 8/80\n",
      "1/1 [==============================] - 0s 55ms/step - loss: 1.5433 - accuracy: 0.3077 - val_loss: 1.3211 - val_accuracy: 0.3333\n",
      "Epoch 9/80\n",
      "1/1 [==============================] - 0s 44ms/step - loss: 1.3680 - accuracy: 0.3077 - val_loss: 1.1555 - val_accuracy: 0.3333\n",
      "Epoch 10/80\n",
      "1/1 [==============================] - 0s 44ms/step - loss: 1.2052 - accuracy: 0.3077 - val_loss: 1.0046 - val_accuracy: 0.3333\n",
      "Epoch 11/80\n",
      "1/1 [==============================] - 0s 44ms/step - loss: 1.0579 - accuracy: 0.3077 - val_loss: 0.8701 - val_accuracy: 0.3333\n",
      "Epoch 12/80\n",
      "1/1 [==============================] - 0s 46ms/step - loss: 0.9278 - accuracy: 0.3077 - val_loss: 0.7520 - val_accuracy: 0.3333\n",
      "Epoch 13/80\n",
      "1/1 [==============================] - 0s 35ms/step - loss: 0.8137 - accuracy: 0.3077 - val_loss: 0.6506 - val_accuracy: 0.3333\n",
      "Epoch 14/80\n",
      "1/1 [==============================] - 0s 34ms/step - loss: 0.7155 - accuracy: 0.4615 - val_loss: 0.5684 - val_accuracy: 0.6667\n",
      "Epoch 15/80\n",
      "1/1 [==============================] - 0s 37ms/step - loss: 0.6325 - accuracy: 0.6154 - val_loss: 0.4984 - val_accuracy: 0.8333\n",
      "Epoch 16/80\n",
      "1/1 [==============================] - 0s 34ms/step - loss: 0.5639 - accuracy: 0.6923 - val_loss: 0.4401 - val_accuracy: 0.8333\n",
      "Epoch 17/80\n",
      "1/1 [==============================] - 0s 34ms/step - loss: 0.5093 - accuracy: 0.7692 - val_loss: 0.3930 - val_accuracy: 0.8333\n",
      "Epoch 18/80\n",
      "1/1 [==============================] - 0s 35ms/step - loss: 0.4658 - accuracy: 0.9231 - val_loss: 0.3569 - val_accuracy: 1.0000\n",
      "Epoch 19/80\n",
      "1/1 [==============================] - 0s 34ms/step - loss: 0.4326 - accuracy: 0.9231 - val_loss: 0.3287 - val_accuracy: 1.0000\n",
      "Epoch 20/80\n",
      "1/1 [==============================] - 0s 44ms/step - loss: 0.4067 - accuracy: 0.9231 - val_loss: 0.3043 - val_accuracy: 0.8333\n",
      "Epoch 21/80\n",
      "1/1 [==============================] - 0s 34ms/step - loss: 0.3848 - accuracy: 0.9231 - val_loss: 0.2830 - val_accuracy: 0.8333\n",
      "Epoch 22/80\n",
      "1/1 [==============================] - 0s 36ms/step - loss: 0.3665 - accuracy: 0.8462 - val_loss: 0.2644 - val_accuracy: 0.8333\n",
      "Epoch 23/80\n",
      "1/1 [==============================] - 0s 35ms/step - loss: 0.3505 - accuracy: 0.8462 - val_loss: 0.2485 - val_accuracy: 0.8333\n",
      "Epoch 24/80\n",
      "1/1 [==============================] - 0s 38ms/step - loss: 0.3369 - accuracy: 0.8462 - val_loss: 0.2348 - val_accuracy: 0.8333\n",
      "Epoch 25/80\n",
      "1/1 [==============================] - 0s 38ms/step - loss: 0.3251 - accuracy: 0.8462 - val_loss: 0.2230 - val_accuracy: 0.8333\n",
      "Epoch 26/80\n",
      "1/1 [==============================] - 0s 35ms/step - loss: 0.3150 - accuracy: 0.8462 - val_loss: 0.2135 - val_accuracy: 0.8333\n",
      "Epoch 27/80\n",
      "1/1 [==============================] - 0s 37ms/step - loss: 0.3066 - accuracy: 0.8462 - val_loss: 0.2053 - val_accuracy: 0.8333\n",
      "Epoch 28/80\n",
      "1/1 [==============================] - 0s 33ms/step - loss: 0.2992 - accuracy: 0.8462 - val_loss: 0.1982 - val_accuracy: 0.8333\n",
      "Epoch 29/80\n",
      "1/1 [==============================] - 0s 34ms/step - loss: 0.2928 - accuracy: 0.8462 - val_loss: 0.1925 - val_accuracy: 0.8333\n",
      "Epoch 30/80\n",
      "1/1 [==============================] - 0s 43ms/step - loss: 0.2872 - accuracy: 0.8462 - val_loss: 0.1872 - val_accuracy: 0.8333\n",
      "Epoch 31/80\n",
      "1/1 [==============================] - 0s 34ms/step - loss: 0.2821 - accuracy: 0.8462 - val_loss: 0.1822 - val_accuracy: 0.8333\n",
      "Epoch 32/80\n",
      "1/1 [==============================] - 0s 33ms/step - loss: 0.2772 - accuracy: 0.8462 - val_loss: 0.1773 - val_accuracy: 0.8333\n",
      "Epoch 33/80\n",
      "1/1 [==============================] - 0s 38ms/step - loss: 0.2718 - accuracy: 0.8462 - val_loss: 0.1723 - val_accuracy: 0.8333\n",
      "Epoch 34/80\n",
      "1/1 [==============================] - 0s 35ms/step - loss: 0.2664 - accuracy: 0.8462 - val_loss: 0.1673 - val_accuracy: 0.8333\n",
      "Epoch 35/80\n",
      "1/1 [==============================] - 0s 34ms/step - loss: 0.2608 - accuracy: 0.8462 - val_loss: 0.1622 - val_accuracy: 0.8333\n",
      "Epoch 36/80\n",
      "1/1 [==============================] - 0s 35ms/step - loss: 0.2552 - accuracy: 0.8462 - val_loss: 0.1569 - val_accuracy: 1.0000\n",
      "Epoch 37/80\n",
      "1/1 [==============================] - 0s 35ms/step - loss: 0.2492 - accuracy: 0.8462 - val_loss: 0.1515 - val_accuracy: 1.0000\n",
      "Epoch 38/80\n",
      "1/1 [==============================] - 0s 33ms/step - loss: 0.2430 - accuracy: 0.8462 - val_loss: 0.1459 - val_accuracy: 1.0000\n",
      "Epoch 39/80\n",
      "1/1 [==============================] - 0s 46ms/step - loss: 0.2369 - accuracy: 0.8462 - val_loss: 0.1412 - val_accuracy: 1.0000\n",
      "Epoch 40/80\n",
      "1/1 [==============================] - 0s 35ms/step - loss: 0.2307 - accuracy: 0.8462 - val_loss: 0.1365 - val_accuracy: 1.0000\n",
      "Epoch 41/80\n",
      "1/1 [==============================] - 0s 35ms/step - loss: 0.2235 - accuracy: 0.9231 - val_loss: 0.1317 - val_accuracy: 1.0000\n",
      "Epoch 42/80\n",
      "1/1 [==============================] - 0s 34ms/step - loss: 0.2159 - accuracy: 0.9231 - val_loss: 0.1268 - val_accuracy: 1.0000\n",
      "Epoch 43/80\n",
      "1/1 [==============================] - 0s 35ms/step - loss: 0.2080 - accuracy: 0.9231 - val_loss: 0.1219 - val_accuracy: 1.0000\n",
      "Epoch 44/80\n",
      "1/1 [==============================] - 0s 33ms/step - loss: 0.1999 - accuracy: 0.9231 - val_loss: 0.1169 - val_accuracy: 1.0000\n",
      "Epoch 45/80\n",
      "1/1 [==============================] - 0s 35ms/step - loss: 0.1925 - accuracy: 0.9231 - val_loss: 0.1120 - val_accuracy: 1.0000\n",
      "Epoch 46/80\n",
      "1/1 [==============================] - 0s 36ms/step - loss: 0.1860 - accuracy: 1.0000 - val_loss: 0.1071 - val_accuracy: 1.0000\n",
      "Epoch 47/80\n",
      "1/1 [==============================] - 0s 34ms/step - loss: 0.1792 - accuracy: 1.0000 - val_loss: 0.1023 - val_accuracy: 1.0000\n",
      "Epoch 48/80\n",
      "1/1 [==============================] - 0s 33ms/step - loss: 0.1726 - accuracy: 1.0000 - val_loss: 0.0974 - val_accuracy: 1.0000\n",
      "Epoch 49/80\n",
      "1/1 [==============================] - 0s 44ms/step - loss: 0.1663 - accuracy: 1.0000 - val_loss: 0.0924 - val_accuracy: 1.0000\n",
      "Epoch 50/80\n",
      "1/1 [==============================] - 0s 32ms/step - loss: 0.1607 - accuracy: 1.0000 - val_loss: 0.0877 - val_accuracy: 1.0000\n",
      "Epoch 51/80\n",
      "1/1 [==============================] - 0s 33ms/step - loss: 0.1549 - accuracy: 1.0000 - val_loss: 0.0842 - val_accuracy: 1.0000\n",
      "Epoch 52/80\n",
      "1/1 [==============================] - 0s 33ms/step - loss: 0.1496 - accuracy: 1.0000 - val_loss: 0.0810 - val_accuracy: 1.0000\n",
      "Epoch 53/80\n",
      "1/1 [==============================] - 0s 34ms/step - loss: 0.1448 - accuracy: 1.0000 - val_loss: 0.0781 - val_accuracy: 1.0000\n",
      "Epoch 54/80\n",
      "1/1 [==============================] - 0s 36ms/step - loss: 0.1410 - accuracy: 1.0000 - val_loss: 0.0749 - val_accuracy: 1.0000\n",
      "Epoch 55/80\n",
      "1/1 [==============================] - 0s 34ms/step - loss: 0.1375 - accuracy: 1.0000 - val_loss: 0.0717 - val_accuracy: 1.0000\n",
      "Epoch 56/80\n",
      "1/1 [==============================] - 0s 41ms/step - loss: 0.1340 - accuracy: 1.0000 - val_loss: 0.0686 - val_accuracy: 1.0000\n",
      "Epoch 57/80\n",
      "1/1 [==============================] - 0s 56ms/step - loss: 0.1305 - accuracy: 1.0000 - val_loss: 0.0656 - val_accuracy: 1.0000\n",
      "Epoch 58/80\n",
      "1/1 [==============================] - 0s 52ms/step - loss: 0.1269 - accuracy: 1.0000 - val_loss: 0.0627 - val_accuracy: 1.0000\n",
      "Epoch 59/80\n",
      "1/1 [==============================] - 0s 45ms/step - loss: 0.1234 - accuracy: 1.0000 - val_loss: 0.0599 - val_accuracy: 1.0000\n",
      "Epoch 60/80\n",
      "1/1 [==============================] - 0s 34ms/step - loss: 0.1198 - accuracy: 1.0000 - val_loss: 0.0571 - val_accuracy: 1.0000\n",
      "Epoch 61/80\n",
      "1/1 [==============================] - 0s 60ms/step - loss: 0.1162 - accuracy: 1.0000 - val_loss: 0.0545 - val_accuracy: 1.0000\n",
      "Epoch 62/80\n",
      "1/1 [==============================] - 0s 33ms/step - loss: 0.1127 - accuracy: 1.0000 - val_loss: 0.0519 - val_accuracy: 1.0000\n",
      "Epoch 63/80\n",
      "1/1 [==============================] - 0s 33ms/step - loss: 0.1092 - accuracy: 1.0000 - val_loss: 0.0494 - val_accuracy: 1.0000\n",
      "Epoch 64/80\n",
      "1/1 [==============================] - 0s 37ms/step - loss: 0.1058 - accuracy: 1.0000 - val_loss: 0.0470 - val_accuracy: 1.0000\n",
      "Epoch 65/80\n",
      "1/1 [==============================] - 0s 33ms/step - loss: 0.1024 - accuracy: 1.0000 - val_loss: 0.0447 - val_accuracy: 1.0000\n",
      "Epoch 66/80\n",
      "1/1 [==============================] - 0s 33ms/step - loss: 0.0992 - accuracy: 1.0000 - val_loss: 0.0425 - val_accuracy: 1.0000\n",
      "Epoch 67/80\n",
      "1/1 [==============================] - 0s 45ms/step - loss: 0.0960 - accuracy: 1.0000 - val_loss: 0.0404 - val_accuracy: 1.0000\n",
      "Epoch 68/80\n",
      "1/1 [==============================] - 0s 38ms/step - loss: 0.0929 - accuracy: 1.0000 - val_loss: 0.0385 - val_accuracy: 1.0000\n",
      "Epoch 69/80\n",
      "1/1 [==============================] - 0s 74ms/step - loss: 0.0899 - accuracy: 1.0000 - val_loss: 0.0366 - val_accuracy: 1.0000\n",
      "Epoch 70/80\n",
      "1/1 [==============================] - 0s 36ms/step - loss: 0.0870 - accuracy: 1.0000 - val_loss: 0.0348 - val_accuracy: 1.0000\n",
      "Epoch 71/80\n",
      "1/1 [==============================] - 0s 33ms/step - loss: 0.0843 - accuracy: 1.0000 - val_loss: 0.0330 - val_accuracy: 1.0000\n",
      "Epoch 72/80\n",
      "1/1 [==============================] - 0s 32ms/step - loss: 0.0818 - accuracy: 1.0000 - val_loss: 0.0314 - val_accuracy: 1.0000\n",
      "Epoch 73/80\n",
      "1/1 [==============================] - 0s 32ms/step - loss: 0.0794 - accuracy: 1.0000 - val_loss: 0.0298 - val_accuracy: 1.0000\n",
      "Epoch 74/80\n",
      "1/1 [==============================] - 0s 35ms/step - loss: 0.0771 - accuracy: 1.0000 - val_loss: 0.0282 - val_accuracy: 1.0000\n",
      "Epoch 75/80\n",
      "1/1 [==============================] - 0s 36ms/step - loss: 0.0748 - accuracy: 1.0000 - val_loss: 0.0268 - val_accuracy: 1.0000\n",
      "Epoch 76/80\n",
      "1/1 [==============================] - 0s 34ms/step - loss: 0.0726 - accuracy: 1.0000 - val_loss: 0.0254 - val_accuracy: 1.0000\n",
      "Epoch 77/80\n",
      "1/1 [==============================] - 0s 37ms/step - loss: 0.0704 - accuracy: 1.0000 - val_loss: 0.0241 - val_accuracy: 1.0000\n",
      "Epoch 78/80\n",
      "1/1 [==============================] - 0s 35ms/step - loss: 0.0684 - accuracy: 1.0000 - val_loss: 0.0229 - val_accuracy: 1.0000\n",
      "Epoch 79/80\n",
      "1/1 [==============================] - 0s 42ms/step - loss: 0.0666 - accuracy: 1.0000 - val_loss: 0.0218 - val_accuracy: 1.0000\n",
      "Epoch 80/80\n",
      "1/1 [==============================] - 0s 34ms/step - loss: 0.0648 - accuracy: 1.0000 - val_loss: 0.0208 - val_accuracy: 1.0000\n"
     ]
    },
    {
     "data": {
      "text/plain": [
       "<tensorflow.python.keras.callbacks.History at 0x152926d10>"
      ]
     },
     "execution_count": 43,
     "metadata": {},
     "output_type": "execute_result"
    }
   ],
   "source": [
    "#This step is carried out for the purpose of redult reproducibility\n",
    "seed_value = 6051\n",
    "#1114 , 6584 66\n",
    "\n",
    "# Set Python random seed using environment variable\n",
    "import os\n",
    "os.environ['PYTHONHASHSEED']=str(seed_value)\n",
    "\n",
    "# Set Numpy random seed\n",
    "import random\n",
    "np.random.seed(seed_value)\n",
    "\n",
    "# Set TensorFlow random seed\n",
    "import tensorflow as tf\n",
    "tf.random.set_seed(seed_value) \n",
    "\n",
    "#Importing relevant libraries from tensorflow\n",
    "\n",
    "\n",
    "from tensorflow.keras.models import Sequential\n",
    "from tensorflow.keras.layers import Dense\n",
    "\n",
    "\n",
    "\n",
    "ann_c_hyd = Sequential()\n",
    "\n",
    "ann_c_hyd.add(Dense(units=3,   activation ='relu'))\n",
    "ann_c_hyd.add(Dense(units=10,  activation ='relu'))\n",
    "ann_c_hyd.add(Dense(units=15,  activation ='relu'))\n",
    "ann_c_hyd.add(Dense(units=18,  activation ='relu'))\n",
    "ann_c_hyd.add(Dense(units=15,  activation ='relu'))\n",
    "ann_c_hyd.add(Dense(units=10,  activation ='relu'))\n",
    "ann_c_hyd.add(Dense(units=1,   activation ='sigmoid'))\n",
    "\n",
    "ann_c_hyd.compile(optimizer= 'adam',\n",
    "                 loss = 'binary_crossentropy',\n",
    "                 metrics = ['accuracy'])\n",
    "\n",
    "ann_c_hyd.fit (x_c_train, y_c_train,\n",
    "              epochs = 80,\n",
    "              batch_size = 30,\n",
    "              validation_split=0.3)\n"
   ]
  },
  {
   "cell_type": "code",
   "execution_count": 44,
   "metadata": {},
   "outputs": [
    {
     "data": {
      "text/plain": [
       "<matplotlib.legend.Legend at 0x1512a6210>"
      ]
     },
     "execution_count": 44,
     "metadata": {},
     "output_type": "execute_result"
    },
    {
     "data": {
      "image/png": "[encoded data removed]",
      "text/plain": [
       "<Figure size 504x360 with 1 Axes>"
      ]
     },
     "metadata": {
      "needs_background": "light"
     },
     "output_type": "display_data"
    }
   ],
   "source": [
    "import matplotlib.pyplot as plt\n",
    "plt.subplots(figsize=(7,5))\n",
    "\n",
    "figure1:plt.plot(ann_c_hyd.history.history['accuracy'])\n",
    "figure2:plt.plot(ann_c_hyd.history.history['val_accuracy'])\n",
    "figure3:plt.plot(ann_c_hyd.history.history['loss'])\n",
    "figure4:plt.plot(ann_c_hyd.history.history['val_loss'])\n",
    "\n",
    "\n",
    "plt.legend(['Training accuracy', 'val_accuracy', 'Training loss', 'val_loss'])"
   ]
  },
  {
   "cell_type": "code",
   "execution_count": 45,
   "metadata": {},
   "outputs": [
    {
     "name": "stdout",
     "output_type": "stream",
     "text": [
      "2/2 [==============================] - 0s 3ms/step - loss: 0.0404 - accuracy: 0.9762\n"
     ]
    },
    {
     "data": {
      "text/plain": [
       "[0.040405831166676114, 0.9761904761904762]"
      ]
     },
     "execution_count": 45,
     "metadata": {},
     "output_type": "execute_result"
    }
   ],
   "source": [
    "ann_c_hyd.evaluate (x_c_test, y_c_test)"
   ]
  },
  {
   "cell_type": "code",
   "execution_count": 46,
   "metadata": {},
   "outputs": [
    {
     "data": {
      "text/plain": [
       "Text(0.5, 1.0, 'Distribution of Actual and Predicted Values (ANN - C0.1wt%)')"
      ]
     },
     "execution_count": 46,
     "metadata": {},
     "output_type": "execute_result"
    },
    {
     "data": {
      "image/png": "[encoded data removed]",
      "text/plain": [
       "<Figure size 432x288 with 1 Axes>"
      ]
     },
     "metadata": {
      "needs_background": "light"
     },
     "output_type": "display_data"
    }
   ],
   "source": [
    "#Distribution plot of ANN predicted and actual values\n",
    "ax1 = sns.distplot(y_c, hist=False, color=\"r\", label=\"Actual Value\")\n",
    "sns.distplot(ann_c_hyd.predict(x_c), hist=False, color=\"b\", label=\"Predicted Values\", axlabel='Pressure Distribution', ax=ax1)\n",
    "plt.title('Distribution of Actual and Predicted Values (ANN - C0.1wt%)')"
   ]
  },
  {
   "cell_type": "markdown",
   "metadata": {},
   "source": [
    "Using Supervised Learning to predict Pressure behaviour / trend values on Data C \n",
    "*Input  = Temperature T1 (°C) and Time\n",
    "*Output = Pressure"
   ]
  },
  {
   "cell_type": "code",
   "execution_count": 47,
   "metadata": {},
   "outputs": [],
   "source": [
    "x_c_trend = df_c [['Time', 'T1 (°C)']]\n",
    "y_c_trend = df_c ['P1 (Psi)'] \n",
    "\n",
    "x_c_trend_train,x_c_trend_test,y_c_trend_train,y_c_trend_test=tts(x_c_trend,y_c_trend, \n",
    "                                                                  test_size =0.3,random_state=35)"
   ]
  },
  {
   "cell_type": "code",
   "execution_count": 48,
   "metadata": {
    "scrolled": true
   },
   "outputs": [
    {
     "name": "stdout",
     "output_type": "stream",
     "text": [
      "[23:44:18] WARNING: src/objective/regression_obj.cu:152: reg:linear is now deprecated in favor of reg:squarederror.\n"
     ]
    },
    {
     "name": "stderr",
     "output_type": "stream",
     "text": [
      "/opt/anaconda3/lib/python3.7/site-packages/xgboost/core.py:587: FutureWarning: Series.base is deprecated and will be removed in a future version\n",
      "  if getattr(data, 'base', None) is not None and \\\n"
     ]
    },
    {
     "data": {
      "text/plain": [
       "0.986928380436979"
      ]
     },
     "execution_count": 48,
     "metadata": {},
     "output_type": "execute_result"
    }
   ],
   "source": [
    "#Using XGBoost Regressor\n",
    "import xgboost as xgb\n",
    "\n",
    "model_xgb = xgb.XGBRegressor()\n",
    "xgb_c = model_xgb.fit(x_c_trend_train,y_c_trend_train)\n",
    "xgb_c.score(x_c_trend_test,y_c_trend_test)"
   ]
  },
  {
   "cell_type": "code",
   "execution_count": 49,
   "metadata": {},
   "outputs": [
    {
     "data": {
      "text/plain": [
       "Text(0.5, 1.0, 'Distribution of Actual and Predicted Values (XGBoost - C0.1wt%)')"
      ]
     },
     "execution_count": 49,
     "metadata": {},
     "output_type": "execute_result"
    },
    {
     "data": {
      "image/png": "[encoded data removed]",
      "text/plain": [
       "<Figure size 432x288 with 1 Axes>"
      ]
     },
     "metadata": {
      "needs_background": "light"
     },
     "output_type": "display_data"
    }
   ],
   "source": [
    "#Distribution plot of LinearRegression predicted and actual values\n",
    "ax1 = sns.distplot(y_c_trend, hist=False, color=\"r\", label=\"Actual Value\")\n",
    "sns.distplot(xgb_c.predict(x_c_trend), hist=False, color=\"b\", label=\"Predicted Values\", axlabel='Pressure Distribution', ax=ax1)\n",
    "plt.title('Distribution of Actual and Predicted Values (XGBoost - C0.1wt%)')"
   ]
  },
  {
   "cell_type": "code",
   "execution_count": 50,
   "metadata": {
    "scrolled": true
   },
   "outputs": [
    {
     "data": {
      "text/plain": [
       "0.9569886783724417"
      ]
     },
     "execution_count": 50,
     "metadata": {},
     "output_type": "execute_result"
    }
   ],
   "source": [
    "#Using LinearRegression\n",
    "from sklearn.linear_model import LinearRegression\n",
    "\n",
    "model_lr = LinearRegression()\n",
    "lr_c = model_lr.fit(x_c_trend_test,y_c_trend_test)\n",
    "lr_c.score(x_c_trend_test,y_c_trend_test)"
   ]
  },
  {
   "cell_type": "code",
   "execution_count": 51,
   "metadata": {},
   "outputs": [
    {
     "data": {
      "text/plain": [
       "Text(0.5, 1.0, 'Distribution of Actual and Predicted Values (LinearRegressor - C0.1wt%)')"
      ]
     },
     "execution_count": 51,
     "metadata": {},
     "output_type": "execute_result"
    },
    {
     "data": {
      "image/png": "[encoded data removed]",
      "text/plain": [
       "<Figure size 432x288 with 1 Axes>"
      ]
     },
     "metadata": {
      "needs_background": "light"
     },
     "output_type": "display_data"
    }
   ],
   "source": [
    "#Distribution plot of LinearRegression predicted and actual values\n",
    "ax1 = sns.distplot(y_c_trend, hist=False, color=\"r\", label=\"Actual Value\")\n",
    "sns.distplot(lr_c.predict(x_c_trend), hist=False, color=\"b\", label=\"Predicted Values\", axlabel='Pressure Distribution', ax=ax1)\n",
    "plt.title('Distribution of Actual and Predicted Values (LinearRegressor - C0.1wt%)')"
   ]
  },
  {
   "cell_type": "code",
   "execution_count": 52,
   "metadata": {},
   "outputs": [
    {
     "data": {
      "text/plain": [
       "array([0.00401131, 0.85722124])"
      ]
     },
     "execution_count": 52,
     "metadata": {},
     "output_type": "execute_result"
    }
   ],
   "source": [
    "lr_c.coef_"
   ]
  },
  {
   "cell_type": "code",
   "execution_count": 58,
   "metadata": {},
   "outputs": [
    {
     "data": {
      "text/plain": [
       "93.2036390656232"
      ]
     },
     "execution_count": 58,
     "metadata": {},
     "output_type": "execute_result"
    }
   ],
   "source": [
    "lr_c.intercept_"
   ]
  },
  {
   "cell_type": "code",
   "execution_count": 53,
   "metadata": {},
   "outputs": [
    {
     "data": {
      "text/plain": [
       "0.9970742260430476"
      ]
     },
     "execution_count": 53,
     "metadata": {},
     "output_type": "execute_result"
    }
   ],
   "source": [
    "#Using GradientBoostingRegressor\n",
    "from sklearn.ensemble import GradientBoostingRegressor\n",
    "\n",
    "GB = GradientBoostingRegressor()\n",
    "GB_c = GB.fit(x_c_trend_train,y_c_trend_train)\n",
    "GB_c.score(x_c_trend_test,y_c_trend_test)"
   ]
  },
  {
   "cell_type": "code",
   "execution_count": 54,
   "metadata": {},
   "outputs": [
    {
     "data": {
      "text/plain": [
       "Text(0.5, 1.0, 'Distribution of Actual and Predicted Values (GradientBoostingRegressor - C0.1wt%)')"
      ]
     },
     "execution_count": 54,
     "metadata": {},
     "output_type": "execute_result"
    },
    {
     "data": {
      "image/png": "[encoded data removed]",
      "text/plain": [
       "<Figure size 432x288 with 1 Axes>"
      ]
     },
     "metadata": {
      "needs_background": "light"
     },
     "output_type": "display_data"
    }
   ],
   "source": [
    "#Distribution plot of GradientBoostingRegressor predicted and actual values\n",
    "ax1 = sns.distplot(y_c_trend, hist=False, color=\"r\", label=\"Actual Value\")\n",
    "sns.distplot(GB_c.predict(x_c_trend), hist=False, color=\"b\", label=\"Predicted Values\", axlabel='Pressure Distribution', ax=ax1)\n",
    "plt.title('Distribution of Actual and Predicted Values (GradientBoostingRegressor - C0.1wt%)')"
   ]
  },
  {
   "cell_type": "code",
   "execution_count": null,
   "metadata": {},
   "outputs": [],
   "source": []
  }
 ],
 "metadata": {
  "kernelspec": {
   "display_name": "Python 3",
   "language": "python",
   "name": "python3"
  },
  "language_info": {
   "codemirror_mode": {
    "name": "ipython",
    "version": 3
   },
   "file_extension": ".py",
   "mimetype": "text/x-python",
   "name": "python",
   "nbconvert_exporter": "python",
   "pygments_lexer": "ipython3",
   "version": "3.7.4"
  }
 },
 "nbformat": 4,
 "nbformat_minor": 2
}
